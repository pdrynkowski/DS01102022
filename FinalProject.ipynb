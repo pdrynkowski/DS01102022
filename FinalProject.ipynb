{
 "cells": [
  {
   "cell_type": "markdown",
   "id": "26bcdb5c",
   "metadata": {},
   "source": [
    "# Predicting Diabetes Indicators\n"
   ]
  },
  {
   "cell_type": "markdown",
   "id": "0a5d5859",
   "metadata": {},
   "source": [
    "1. Abstract\n",
    "2. About Dataset\n",
    "3. Prerequisites\n",
    "4. Data review\n",
    "5. Feature extraction\n",
    "6. Training model\n",
    "7. Comparision Logistic Reggresion vs Decision Trees vs XGBoost\n",
    "8. Summury"
   ]
  },
  {
   "cell_type": "markdown",
   "id": "cfc0aa3a",
   "metadata": {},
   "source": [
    "## Abstract\n",
    "\n",
    " The goals of this project is to predict posible to get diabetes based on annually, a health-related telephone survay by The Behavioral Risk Factor Surveillance System (BRFSS)"
   ]
  },
  {
   "cell_type": "markdown",
   "id": "e262756f",
   "metadata": {},
   "source": [
    "## About dataset\n"
   ]
  },
  {
   "cell_type": "markdown",
   "id": "19a9b1c5",
   "metadata": {},
   "source": [
    "The Behavioral Risk Factor Surveillance System (BRFSS) is a health-related telephone survey that is collected annually by the CDC. Each year, the survey collects responses from over 400,000 Americans on health-related risk behaviors, chronic health conditions, and the use of preventative services. It has been conducted every year since 1984. For this project, a csv of the dataset available on Kaggle for the year 2015 was used. This original dataset contains responses from 441,455 individuals and has 330 features.<br>\n",
    "In this project we use third dataset wchich is a clean dataset of 253,680 survey responses to the CDC's BRFSS2015. The target variable Diabetes_binary has 2 classes. 0 is for no diabetes, and 1 is for prediabetes or diabetes. This dataset has 21 feature variables and is not balanced."
   ]
  },
  {
   "cell_type": "markdown",
   "id": "bfdf506b",
   "metadata": {},
   "source": [
    "## Prerequisites"
   ]
  },
  {
   "cell_type": "code",
   "execution_count": 1,
   "id": "8c2faf56",
   "metadata": {},
   "outputs": [],
   "source": [
    "import pandas as pd\n",
    "import sklearn\n",
    "import seaborn as sns\n",
    "import matplotlib.pyplot as plt\n",
    "from imblearn.over_sampling import SMOTE\n",
    "from sklearn.linear_model import LogisticRegression\n",
    "from sklearn.model_selection import train_test_split, GridSearchCV\n",
    "from sklearn.tree import DecisionTreeClassifier\n",
    "from sklearn.metrics import accuracy_score, f1_score\n",
    "from sklearn.model_selection import KFold, StratifiedKFold #for unbalanced data\n",
    "from sklearn.pipeline import Pipeline\n",
    "from sklearn.preprocessing import StandardScaler, MinMaxScaler, Normalizer\n",
    "from sklearn.compose import ColumnTransformer\n",
    "from xgboost.sklearn import XGBClassifier\n",
    "import time"
   ]
  },
  {
   "cell_type": "markdown",
   "id": "fffdc73a",
   "metadata": {},
   "source": [
    "## Data review\n",
    "\n",
    "\n",
    "File name: diabetes_binary_health_indicators_BRFSS2015.csv<br>\n",
    "Source: "
   ]
  },
  {
   "cell_type": "markdown",
   "id": "d99a1050",
   "metadata": {},
   "source": [
    "https://www.kaggle.com/datasets/alexteboul/diabetes-health-indicators-dataset"
   ]
  },
  {
   "cell_type": "markdown",
   "id": "ee85d3af",
   "metadata": {},
   "source": [
    "Under this link we can find out whole describe of columns."
   ]
  },
  {
   "cell_type": "markdown",
   "id": "99c76b9a",
   "metadata": {},
   "source": [
    "https://www.kaggle.com/code/alexteboul/diabetes-health-indicators-dataset-notebook"
   ]
  },
  {
   "cell_type": "markdown",
   "id": "c7f4ea8b",
   "metadata": {},
   "source": [
    "So, let's see basiscs of our data."
   ]
  },
  {
   "cell_type": "code",
   "execution_count": 2,
   "id": "0b090ea2",
   "metadata": {},
   "outputs": [],
   "source": [
    "data = pd.read_csv(r'C:\\Users\\pdrynkowski\\ds\\diabetes_binary_health_indicators_BRFSS2015.csv')"
   ]
  },
  {
   "cell_type": "markdown",
   "id": "96551a67",
   "metadata": {},
   "source": [
    "Primary information about dataset"
   ]
  },
  {
   "cell_type": "code",
   "execution_count": 3,
   "id": "b0a73c99",
   "metadata": {},
   "outputs": [
    {
     "data": {
      "text/html": [
       "<div>\n",
       "<style scoped>\n",
       "    .dataframe tbody tr th:only-of-type {\n",
       "        vertical-align: middle;\n",
       "    }\n",
       "\n",
       "    .dataframe tbody tr th {\n",
       "        vertical-align: top;\n",
       "    }\n",
       "\n",
       "    .dataframe thead th {\n",
       "        text-align: right;\n",
       "    }\n",
       "</style>\n",
       "<table border=\"1\" class=\"dataframe\">\n",
       "  <thead>\n",
       "    <tr style=\"text-align: right;\">\n",
       "      <th></th>\n",
       "      <th>Diabetes_binary</th>\n",
       "      <th>HighBP</th>\n",
       "      <th>HighChol</th>\n",
       "      <th>CholCheck</th>\n",
       "      <th>BMI</th>\n",
       "      <th>Smoker</th>\n",
       "      <th>Stroke</th>\n",
       "      <th>HeartDiseaseorAttack</th>\n",
       "      <th>PhysActivity</th>\n",
       "      <th>Fruits</th>\n",
       "      <th>...</th>\n",
       "      <th>AnyHealthcare</th>\n",
       "      <th>NoDocbcCost</th>\n",
       "      <th>GenHlth</th>\n",
       "      <th>MentHlth</th>\n",
       "      <th>PhysHlth</th>\n",
       "      <th>DiffWalk</th>\n",
       "      <th>Sex</th>\n",
       "      <th>Age</th>\n",
       "      <th>Education</th>\n",
       "      <th>Income</th>\n",
       "    </tr>\n",
       "  </thead>\n",
       "  <tbody>\n",
       "    <tr>\n",
       "      <th>0</th>\n",
       "      <td>0.0</td>\n",
       "      <td>1.0</td>\n",
       "      <td>1.0</td>\n",
       "      <td>1.0</td>\n",
       "      <td>40.0</td>\n",
       "      <td>1.0</td>\n",
       "      <td>0.0</td>\n",
       "      <td>0.0</td>\n",
       "      <td>0.0</td>\n",
       "      <td>0.0</td>\n",
       "      <td>...</td>\n",
       "      <td>1.0</td>\n",
       "      <td>0.0</td>\n",
       "      <td>5.0</td>\n",
       "      <td>18.0</td>\n",
       "      <td>15.0</td>\n",
       "      <td>1.0</td>\n",
       "      <td>0.0</td>\n",
       "      <td>9.0</td>\n",
       "      <td>4.0</td>\n",
       "      <td>3.0</td>\n",
       "    </tr>\n",
       "    <tr>\n",
       "      <th>1</th>\n",
       "      <td>0.0</td>\n",
       "      <td>0.0</td>\n",
       "      <td>0.0</td>\n",
       "      <td>0.0</td>\n",
       "      <td>25.0</td>\n",
       "      <td>1.0</td>\n",
       "      <td>0.0</td>\n",
       "      <td>0.0</td>\n",
       "      <td>1.0</td>\n",
       "      <td>0.0</td>\n",
       "      <td>...</td>\n",
       "      <td>0.0</td>\n",
       "      <td>1.0</td>\n",
       "      <td>3.0</td>\n",
       "      <td>0.0</td>\n",
       "      <td>0.0</td>\n",
       "      <td>0.0</td>\n",
       "      <td>0.0</td>\n",
       "      <td>7.0</td>\n",
       "      <td>6.0</td>\n",
       "      <td>1.0</td>\n",
       "    </tr>\n",
       "    <tr>\n",
       "      <th>2</th>\n",
       "      <td>0.0</td>\n",
       "      <td>1.0</td>\n",
       "      <td>1.0</td>\n",
       "      <td>1.0</td>\n",
       "      <td>28.0</td>\n",
       "      <td>0.0</td>\n",
       "      <td>0.0</td>\n",
       "      <td>0.0</td>\n",
       "      <td>0.0</td>\n",
       "      <td>1.0</td>\n",
       "      <td>...</td>\n",
       "      <td>1.0</td>\n",
       "      <td>1.0</td>\n",
       "      <td>5.0</td>\n",
       "      <td>30.0</td>\n",
       "      <td>30.0</td>\n",
       "      <td>1.0</td>\n",
       "      <td>0.0</td>\n",
       "      <td>9.0</td>\n",
       "      <td>4.0</td>\n",
       "      <td>8.0</td>\n",
       "    </tr>\n",
       "    <tr>\n",
       "      <th>3</th>\n",
       "      <td>0.0</td>\n",
       "      <td>1.0</td>\n",
       "      <td>0.0</td>\n",
       "      <td>1.0</td>\n",
       "      <td>27.0</td>\n",
       "      <td>0.0</td>\n",
       "      <td>0.0</td>\n",
       "      <td>0.0</td>\n",
       "      <td>1.0</td>\n",
       "      <td>1.0</td>\n",
       "      <td>...</td>\n",
       "      <td>1.0</td>\n",
       "      <td>0.0</td>\n",
       "      <td>2.0</td>\n",
       "      <td>0.0</td>\n",
       "      <td>0.0</td>\n",
       "      <td>0.0</td>\n",
       "      <td>0.0</td>\n",
       "      <td>11.0</td>\n",
       "      <td>3.0</td>\n",
       "      <td>6.0</td>\n",
       "    </tr>\n",
       "    <tr>\n",
       "      <th>4</th>\n",
       "      <td>0.0</td>\n",
       "      <td>1.0</td>\n",
       "      <td>1.0</td>\n",
       "      <td>1.0</td>\n",
       "      <td>24.0</td>\n",
       "      <td>0.0</td>\n",
       "      <td>0.0</td>\n",
       "      <td>0.0</td>\n",
       "      <td>1.0</td>\n",
       "      <td>1.0</td>\n",
       "      <td>...</td>\n",
       "      <td>1.0</td>\n",
       "      <td>0.0</td>\n",
       "      <td>2.0</td>\n",
       "      <td>3.0</td>\n",
       "      <td>0.0</td>\n",
       "      <td>0.0</td>\n",
       "      <td>0.0</td>\n",
       "      <td>11.0</td>\n",
       "      <td>5.0</td>\n",
       "      <td>4.0</td>\n",
       "    </tr>\n",
       "  </tbody>\n",
       "</table>\n",
       "<p>5 rows × 22 columns</p>\n",
       "</div>"
      ],
      "text/plain": [
       "   Diabetes_binary  HighBP  HighChol  CholCheck   BMI  Smoker  Stroke  \\\n",
       "0              0.0     1.0       1.0        1.0  40.0     1.0     0.0   \n",
       "1              0.0     0.0       0.0        0.0  25.0     1.0     0.0   \n",
       "2              0.0     1.0       1.0        1.0  28.0     0.0     0.0   \n",
       "3              0.0     1.0       0.0        1.0  27.0     0.0     0.0   \n",
       "4              0.0     1.0       1.0        1.0  24.0     0.0     0.0   \n",
       "\n",
       "   HeartDiseaseorAttack  PhysActivity  Fruits  ...  AnyHealthcare  \\\n",
       "0                   0.0           0.0     0.0  ...            1.0   \n",
       "1                   0.0           1.0     0.0  ...            0.0   \n",
       "2                   0.0           0.0     1.0  ...            1.0   \n",
       "3                   0.0           1.0     1.0  ...            1.0   \n",
       "4                   0.0           1.0     1.0  ...            1.0   \n",
       "\n",
       "   NoDocbcCost  GenHlth  MentHlth  PhysHlth  DiffWalk  Sex   Age  Education  \\\n",
       "0          0.0      5.0      18.0      15.0       1.0  0.0   9.0        4.0   \n",
       "1          1.0      3.0       0.0       0.0       0.0  0.0   7.0        6.0   \n",
       "2          1.0      5.0      30.0      30.0       1.0  0.0   9.0        4.0   \n",
       "3          0.0      2.0       0.0       0.0       0.0  0.0  11.0        3.0   \n",
       "4          0.0      2.0       3.0       0.0       0.0  0.0  11.0        5.0   \n",
       "\n",
       "   Income  \n",
       "0     3.0  \n",
       "1     1.0  \n",
       "2     8.0  \n",
       "3     6.0  \n",
       "4     4.0  \n",
       "\n",
       "[5 rows x 22 columns]"
      ]
     },
     "execution_count": 3,
     "metadata": {},
     "output_type": "execute_result"
    }
   ],
   "source": [
    "data.head()"
   ]
  },
  {
   "cell_type": "code",
   "execution_count": 4,
   "id": "1d77a7e2",
   "metadata": {},
   "outputs": [
    {
     "name": "stdout",
     "output_type": "stream",
     "text": [
      "<class 'pandas.core.frame.DataFrame'>\n",
      "RangeIndex: 253680 entries, 0 to 253679\n",
      "Data columns (total 22 columns):\n",
      " #   Column                Non-Null Count   Dtype  \n",
      "---  ------                --------------   -----  \n",
      " 0   Diabetes_binary       253680 non-null  float64\n",
      " 1   HighBP                253680 non-null  float64\n",
      " 2   HighChol              253680 non-null  float64\n",
      " 3   CholCheck             253680 non-null  float64\n",
      " 4   BMI                   253680 non-null  float64\n",
      " 5   Smoker                253680 non-null  float64\n",
      " 6   Stroke                253680 non-null  float64\n",
      " 7   HeartDiseaseorAttack  253680 non-null  float64\n",
      " 8   PhysActivity          253680 non-null  float64\n",
      " 9   Fruits                253680 non-null  float64\n",
      " 10  Veggies               253680 non-null  float64\n",
      " 11  HvyAlcoholConsump     253680 non-null  float64\n",
      " 12  AnyHealthcare         253680 non-null  float64\n",
      " 13  NoDocbcCost           253680 non-null  float64\n",
      " 14  GenHlth               253680 non-null  float64\n",
      " 15  MentHlth              253680 non-null  float64\n",
      " 16  PhysHlth              253680 non-null  float64\n",
      " 17  DiffWalk              253680 non-null  float64\n",
      " 18  Sex                   253680 non-null  float64\n",
      " 19  Age                   253680 non-null  float64\n",
      " 20  Education             253680 non-null  float64\n",
      " 21  Income                253680 non-null  float64\n",
      "dtypes: float64(22)\n",
      "memory usage: 42.6 MB\n"
     ]
    }
   ],
   "source": [
    "data.info()"
   ]
  },
  {
   "cell_type": "code",
   "execution_count": 5,
   "id": "aaa8f28f",
   "metadata": {},
   "outputs": [
    {
     "data": {
      "image/png": "[encoded data removed]",
      "text/plain": [
       "<Figure size 720x576 with 2 Axes>"
      ]
     },
     "metadata": {
      "needs_background": "light"
     },
     "output_type": "display_data"
    }
   ],
   "source": [
    "#Heat map\n",
    "plt.figure(figsize=(10,8))\n",
    "p = sns.heatmap(data.corr(), annot=False,cmap =\"RdYlGn\", robust=False)"
   ]
  },
  {
   "cell_type": "code",
   "execution_count": 6,
   "id": "6b4dc19e",
   "metadata": {},
   "outputs": [
    {
     "data": {
      "text/plain": [
       "Diabetes_binary         0\n",
       "HighBP                  0\n",
       "HighChol                0\n",
       "CholCheck               0\n",
       "BMI                     0\n",
       "Smoker                  0\n",
       "Stroke                  0\n",
       "HeartDiseaseorAttack    0\n",
       "PhysActivity            0\n",
       "Fruits                  0\n",
       "Veggies                 0\n",
       "HvyAlcoholConsump       0\n",
       "AnyHealthcare           0\n",
       "NoDocbcCost             0\n",
       "GenHlth                 0\n",
       "MentHlth                0\n",
       "PhysHlth                0\n",
       "DiffWalk                0\n",
       "Sex                     0\n",
       "Age                     0\n",
       "Education               0\n",
       "Income                  0\n",
       "dtype: int64"
      ]
     },
     "execution_count": 6,
     "metadata": {},
     "output_type": "execute_result"
    }
   ],
   "source": [
    "data.isnull().sum()"
   ]
  },
  {
   "cell_type": "markdown",
   "id": "be87faca",
   "metadata": {},
   "source": [
    " As we can see, all of the data is complete, no missing data in any of column, all of them are float type."
   ]
  },
  {
   "cell_type": "markdown",
   "id": "dc067b13",
   "metadata": {},
   "source": [
    "# Feature Extraction"
   ]
  },
  {
   "cell_type": "markdown",
   "id": "19bb7698",
   "metadata": {},
   "source": [
    "Column Diabetes_binary is our target to predict.<BR>\n",
    "Columns HighBP, HighChol, CholCheck are binary, so we can easly transform the data to one hot coding.<br>\n",
    "BMI data has vary diffrent values, so we can try to transform it to some range, But firstly we looks at data distribution using BoxPlot by Seborn module."
   ]
  },
  {
   "cell_type": "code",
   "execution_count": 7,
   "id": "b46a1d8e",
   "metadata": {},
   "outputs": [
    {
     "data": {
      "text/plain": [
       "<AxesSubplot:>"
      ]
     },
     "execution_count": 7,
     "metadata": {},
     "output_type": "execute_result"
    },
    {
     "data": {
      "image/png": "[encoded data removed]",
      "text/plain": [
       "<Figure size 576x576 with 1 Axes>"
      ]
     },
     "metadata": {},
     "output_type": "display_data"
    }
   ],
   "source": [
    "sns.set(rc={'figure.figsize':(8,8)})\n",
    "sns.set_style(\"white\")\n",
    "sns.boxplot(data=data.BMI.value_counts().index)"
   ]
  },
  {
   "cell_type": "markdown",
   "id": "ea270865",
   "metadata": {},
   "source": [
    "As we can see, quartiles of data is balanced, but both of whiskeres are big, I think it can bad impact to predict, because some level of obesity (e.g. 35 +) is enough to be unheathy.<BR/>\n",
    "However,  we dont trunc any data, instead,  divide the data to five bins, to transpose data as categories, starts from 12 beacouse this is minimum value."
   ]
  },
  {
   "cell_type": "code",
   "execution_count": 8,
   "id": "6da69997",
   "metadata": {},
   "outputs": [],
   "source": [
    "#start from copy original data\n",
    "diabetes = data;"
   ]
  },
  {
   "cell_type": "code",
   "execution_count": 9,
   "id": "63a0701d",
   "metadata": {},
   "outputs": [],
   "source": [
    "bins = [12,20,30,40,60,100]\n",
    "categories=[\"Normal\",\"Over_weight\",\"Obesity\",\"Huge_obesity\",\"Max_obesity\"]\n",
    "diabetes.insert(5,\"BMI_Range\", pd.cut(diabetes.BMI,bins=bins,labels=categories,right=False))\n",
    "\n",
    " "
   ]
  },
  {
   "cell_type": "code",
   "execution_count": 10,
   "id": "27e96007",
   "metadata": {},
   "outputs": [],
   "source": [
    "diabetes = diabetes.drop([\"BMI\"], axis=1)"
   ]
  },
  {
   "cell_type": "markdown",
   "id": "2ef2a403",
   "metadata": {},
   "source": [
    " Let's see how the data of BMI marker looks now"
   ]
  },
  {
   "cell_type": "code",
   "execution_count": 11,
   "id": "541645a4",
   "metadata": {},
   "outputs": [
    {
     "data": {
      "text/plain": [
       "Over_weight     158734\n",
       "Obesity          74114\n",
       "Huge_obesity     12869\n",
       "Normal            7095\n",
       "Max_obesity        868\n",
       "Name: BMI_Range, dtype: int64"
      ]
     },
     "execution_count": 11,
     "metadata": {},
     "output_type": "execute_result"
    }
   ],
   "source": [
    "diabetes.BMI_Range.value_counts()\n"
   ]
  },
  {
   "cell_type": "markdown",
   "id": "02b0b923",
   "metadata": {},
   "source": [
    "Gosh, Over weight bin is the biggest, but we should remember the data is from investigation of 2015 year :)"
   ]
  },
  {
   "cell_type": "markdown",
   "id": "b6fc837d",
   "metadata": {},
   "source": [
    "Let's chose columns which seems to be binary data, but we need check them. We use simple histogram to do that."
   ]
  },
  {
   "cell_type": "code",
   "execution_count": 169,
   "id": "552ca05a",
   "metadata": {},
   "outputs": [],
   "source": [
    "df_hist = diabetes[['HighBP','HighChol', 'CholCheck', 'Smoker', 'Stroke', 'HeartDiseaseorAttack', \n",
    "                 'PhysActivity', 'Fruits', 'AnyHealthcare', 'NoDocbcCost', 'DiffWalk', 'Sex']]\n"
   ]
  },
  {
   "cell_type": "code",
   "execution_count": 215,
   "id": "04302c77",
   "metadata": {},
   "outputs": [
    {
     "data": {
      "image/png": "[encoded data removed]",
      "text/plain": [
       "<Figure size 1800x1800 with 12 Axes>"
      ]
     },
     "metadata": {},
     "output_type": "display_data"
    }
   ],
   "source": [
    "hist = df_hist.hist(color = 'green',bins=10, grid=False, figsize = (25,25), ylabelsize=15, xlabelsize=15, range=[0,1]) "
   ]
  },
  {
   "cell_type": "markdown",
   "id": "cddc8777",
   "metadata": {},
   "source": [
    "Ok, it seems to no NaN values,let's carry on review od our data."
   ]
  },
  {
   "cell_type": "code",
   "execution_count": 22,
   "id": "3e4e272f",
   "metadata": {},
   "outputs": [
    {
     "data": {
      "text/plain": [
       "2.0    89084\n",
       "3.0    75646\n",
       "1.0    45299\n",
       "4.0    31570\n",
       "5.0    12081\n",
       "Name: GenHlth, dtype: int64"
      ]
     },
     "execution_count": 22,
     "metadata": {},
     "output_type": "execute_result"
    }
   ],
   "source": [
    "diabetes.GenHlth.value_counts()#categories, no transform"
   ]
  },
  {
   "cell_type": "code",
   "execution_count": 23,
   "id": "6048e6d0",
   "metadata": {},
   "outputs": [
    {
     "data": {
      "text/plain": [
       "0.0     175680\n",
       "2.0      13054\n",
       "30.0     12088\n",
       "5.0       9030\n",
       "1.0       8538\n",
       "3.0       7381\n",
       "10.0      6373\n",
       "15.0      5505\n",
       "4.0       3789\n",
       "20.0      3364\n",
       "7.0       3100\n",
       "25.0      1188\n",
       "14.0      1167\n",
       "6.0        988\n",
       "8.0        639\n",
       "12.0       398\n",
       "28.0       327\n",
       "21.0       227\n",
       "29.0       158\n",
       "18.0        97\n",
       "9.0         91\n",
       "16.0        88\n",
       "27.0        79\n",
       "22.0        63\n",
       "17.0        54\n",
       "26.0        45\n",
       "11.0        41\n",
       "13.0        41\n",
       "23.0        38\n",
       "24.0        33\n",
       "19.0        16\n",
       "Name: MentHlth, dtype: int64"
      ]
     },
     "execution_count": 23,
     "metadata": {},
     "output_type": "execute_result"
    }
   ],
   "source": [
    "diabetes.MentHlth.value_counts()#lots of diffrent values, let's see more"
   ]
  },
  {
   "cell_type": "markdown",
   "id": "ee31e1e2",
   "metadata": {},
   "source": [
    "Following the description of MentHlth column we know, it is count of days people feeled stress, it can be huge impact of any disease (imho).<BR>\n",
    "We need to divide this data, let's see describe column and decide what range apply."
   ]
  },
  {
   "cell_type": "code",
   "execution_count": 24,
   "id": "5dc17062",
   "metadata": {},
   "outputs": [
    {
     "data": {
      "text/plain": [
       "count    253680.000000\n",
       "mean          3.184772\n",
       "std           7.412847\n",
       "min           0.000000\n",
       "25%           0.000000\n",
       "50%           0.000000\n",
       "75%           2.000000\n",
       "max          30.000000\n",
       "Name: MentHlth, dtype: float64"
      ]
     },
     "execution_count": 24,
     "metadata": {},
     "output_type": "execute_result"
    }
   ],
   "source": [
    "diabetes.MentHlth.describe()"
   ]
  },
  {
   "cell_type": "markdown",
   "id": "a086e245",
   "metadata": {},
   "source": [
    "Two of first quartiles so also median values equal zero, nice :)<BR>\n",
    "Let's try to divide of 3 bins"
   ]
  },
  {
   "cell_type": "code",
   "execution_count": 25,
   "id": "fbd34805",
   "metadata": {},
   "outputs": [],
   "source": [
    "bins_mh = [0,7,14,21,31]\n",
    "categories_mh=[\"No_stress\",\"Middle_stress\",\"Stressful\", \"Extreme_stress\"]\n",
    "diabetes.insert(15,\"Stress_level\", pd.cut(diabetes.MentHlth,bins=bins_mh,labels=categories_mh,right=False))\n",
    "diabetes = diabetes.drop([\"MentHlth\"], axis=1)"
   ]
  },
  {
   "cell_type": "markdown",
   "id": "6f75e422",
   "metadata": {},
   "source": [
    "Bins looks this"
   ]
  },
  {
   "cell_type": "code",
   "execution_count": 26,
   "id": "529d12c3",
   "metadata": {},
   "outputs": [
    {
     "data": {
      "text/plain": [
       "No_stress         218460\n",
       "Extreme_stress     14246\n",
       "Middle_stress      10683\n",
       "Stressful          10291\n",
       "Name: Stress_level, dtype: int64"
      ]
     },
     "execution_count": 26,
     "metadata": {},
     "output_type": "execute_result"
    }
   ],
   "source": [
    "diabetes.Stress_level.value_counts()"
   ]
  },
  {
   "cell_type": "markdown",
   "id": "c72c7178",
   "metadata": {},
   "source": [
    "Carry on"
   ]
  },
  {
   "cell_type": "code",
   "execution_count": 29,
   "id": "580aa2a6",
   "metadata": {},
   "outputs": [
    {
     "data": {
      "text/plain": [
       "9.0     33244\n",
       "10.0    32194\n",
       "8.0     30832\n",
       "7.0     26314\n",
       "11.0    23533\n",
       "6.0     19819\n",
       "13.0    17363\n",
       "5.0     16157\n",
       "12.0    15980\n",
       "4.0     13823\n",
       "3.0     11123\n",
       "2.0      7598\n",
       "1.0      5700\n",
       "Name: Age, dtype: int64"
      ]
     },
     "execution_count": 29,
     "metadata": {},
     "output_type": "execute_result"
    }
   ],
   "source": [
    "diabetes.Age.value_counts()"
   ]
  },
  {
   "cell_type": "markdown",
   "id": "c753f634",
   "metadata": {},
   "source": [
    "Following the manual for diabetes data set: 1 is 18-24 all the way up to 13, menas 80 and older. 5 year increments"
   ]
  },
  {
   "cell_type": "code",
   "execution_count": 30,
   "id": "be7bd690",
   "metadata": {},
   "outputs": [
    {
     "data": {
      "text/plain": [
       "6.0    107325\n",
       "5.0     69910\n",
       "4.0     62750\n",
       "3.0      9478\n",
       "2.0      4043\n",
       "1.0       174\n",
       "Name: Education, dtype: int64"
      ]
     },
     "execution_count": 30,
     "metadata": {},
     "output_type": "execute_result"
    }
   ],
   "source": [
    "diabetes.Education.value_counts()#categories, no transform"
   ]
  },
  {
   "cell_type": "code",
   "execution_count": 31,
   "id": "3e03c2b6",
   "metadata": {},
   "outputs": [
    {
     "data": {
      "text/plain": [
       "8.0    90385\n",
       "7.0    43219\n",
       "6.0    36470\n",
       "5.0    25883\n",
       "4.0    20135\n",
       "3.0    15994\n",
       "2.0    11783\n",
       "1.0     9811\n",
       "Name: Income, dtype: int64"
      ]
     },
     "execution_count": 31,
     "metadata": {},
     "output_type": "execute_result"
    }
   ],
   "source": [
    "diabetes.Income.value_counts()# 1 being less than $10,000 all the way up to 8 being $75,000 or more"
   ]
  },
  {
   "cell_type": "markdown",
   "id": "df1dc1f2",
   "metadata": {},
   "source": [
    "After review data, it's time for prepare data to predict"
   ]
  },
  {
   "cell_type": "code",
   "execution_count": 35,
   "id": "21bb8952",
   "metadata": {},
   "outputs": [],
   "source": [
    "X = diabetes.drop(\"Diabetes_binary\", axis=1)#coeficient\n",
    "y = diabetes.Diabetes_binary#target"
   ]
  },
  {
   "cell_type": "markdown",
   "id": "59abde58",
   "metadata": {},
   "source": [
    "Firstly we have to divide the data on training and testing section, we need to do now, becouse the test data can't impact of train data and whole model"
   ]
  },
  {
   "cell_type": "code",
   "execution_count": 36,
   "id": "9f4d0d02",
   "metadata": {},
   "outputs": [],
   "source": [
    "X_train, X_test, y_train, y_test = train_test_split(X,y, test_size=0.25,\n",
    "random_state=5)"
   ]
  },
  {
   "cell_type": "markdown",
   "id": "aa1a4966",
   "metadata": {},
   "source": [
    "OneHotcoding, drop first to avoid linear relationship(less important to Random Forest, but importand using Logistic Regression ), in X_test dataset we use reindex() function to avoid missed column for categorial columns when new data comes."
   ]
  },
  {
   "cell_type": "code",
   "execution_count": 37,
   "id": "0be718ce",
   "metadata": {},
   "outputs": [],
   "source": [
    "X_train = pd.get_dummies(X_train, drop_first=True)"
   ]
  },
  {
   "cell_type": "code",
   "execution_count": 38,
   "id": "d24efddd",
   "metadata": {},
   "outputs": [],
   "source": [
    "X_test = pd.get_dummies(X_test.reindex(columns = X_train.columns, fill_value=0), drop_first=True)"
   ]
  },
  {
   "cell_type": "code",
   "execution_count": 39,
   "id": "6578b761",
   "metadata": {},
   "outputs": [
    {
     "data": {
      "text/plain": [
       "[Text(0.5, 1.0, 'Bar plot of target column')]"
      ]
     },
     "execution_count": 39,
     "metadata": {},
     "output_type": "execute_result"
    },
    {
     "data": {
      "image/png": "[encoded data removed]",
      "text/plain": [
       "<Figure size 576x576 with 1 Axes>"
      ]
     },
     "metadata": {},
     "output_type": "display_data"
    }
   ],
   "source": [
    "sns.barplot(x=[0,1], y=y_train.value_counts(), palette=[\"green\", \"red\"]).set(title=\"Bar plot of target column\")"
   ]
  },
  {
   "cell_type": "markdown",
   "id": "1b4b74ab",
   "metadata": {},
   "source": [
    "The data is high imbalanced, we can use SMOTE alghoritm to create artifitial data<BR>\n",
    "This technique creates new instances of minority group data by copying existing data and making minor changes to it.<BR>\n",
    " "
   ]
  },
  {
   "cell_type": "code",
   "execution_count": 40,
   "id": "3c5db3ce",
   "metadata": {},
   "outputs": [],
   "source": [
    "oversample = SMOTE(sampling_strategy='auto', k_neighbors=6, random_state=42)"
   ]
  },
  {
   "cell_type": "code",
   "execution_count": 41,
   "id": "261a8719",
   "metadata": {},
   "outputs": [],
   "source": [
    "X_train, y_train = oversample.fit_resample(X_train, y_train)"
   ]
  },
  {
   "cell_type": "code",
   "execution_count": 42,
   "id": "549cbd82",
   "metadata": {},
   "outputs": [
    {
     "data": {
      "text/plain": [
       "<AxesSubplot:ylabel='Diabetes_binary'>"
      ]
     },
     "execution_count": 42,
     "metadata": {},
     "output_type": "execute_result"
    },
    {
     "data": {
      "image/png": "[encoded data removed]",
      "text/plain": [
       "<Figure size 576x576 with 1 Axes>"
      ]
     },
     "metadata": {},
     "output_type": "display_data"
    }
   ],
   "source": [
    "sns.barplot(x=[0,1], y=y_train.value_counts(), palette=[\"green\", \"red\"])"
   ]
  },
  {
   "cell_type": "markdown",
   "id": "feca773e",
   "metadata": {},
   "source": [
    "Now we have equal data of ones and zeros, lets make pipeline and find the best model.\n",
    "Whereas original data was unbalanced and we  Using F1 score as a metric, we are sure that if the F1 score is high, both precision and recall of the classifier indicate good results."
   ]
  },
  {
   "cell_type": "markdown",
   "id": "d3012ac6",
   "metadata": {},
   "source": [
    "## Comparision Logistic Reggresion vs Decision Trees vs XGBoost"
   ]
  },
  {
   "cell_type": "markdown",
   "id": "0f33e8b0",
   "metadata": {},
   "source": [
    "\n",
    "### Compare score for three classifier using default hyperparameters"
   ]
  },
  {
   "cell_type": "code",
   "execution_count": 115,
   "id": "591e1765",
   "metadata": {},
   "outputs": [
    {
     "name": "stderr",
     "output_type": "stream",
     "text": [
      "C:\\Users\\pdrynkowski\\Anaconda3\\lib\\site-packages\\sklearn\\linear_model\\_logistic.py:814: ConvergenceWarning: lbfgs failed to converge (status=1):\n",
      "STOP: TOTAL NO. of ITERATIONS REACHED LIMIT.\n",
      "\n",
      "Increase the number of iterations (max_iter) or scale the data as shown in:\n",
      "    https://scikit-learn.org/stable/modules/preprocessing.html\n",
      "Please also refer to the documentation for alternative solver options:\n",
      "    https://scikit-learn.org/stable/modules/linear_model.html#logistic-regression\n",
      "  n_iter_i = _check_optimize_result(\n"
     ]
    }
   ],
   "source": [
    "models_df = pd.DataFrame()\n",
    "\n",
    "models = [\n",
    "    \n",
    "    DecisionTreeClassifier(),\n",
    "    LogisticRegression(),\n",
    "    XGBClassifier()   \n",
    "]\n",
    "scalers = [StandardScaler(), MinMaxScaler(), Normalizer()]\n",
    "\n",
    "pipe = Pipeline(steps = [\n",
    "    ('scaler', None), \n",
    "    ('classifier', None)])\n",
    "\n",
    "for model in models:\n",
    "    for scaler in scalers:\n",
    "        pipe_params = {'scaler' : scaler,\n",
    "                       'classifier' : model}\n",
    "\n",
    "        pipe.set_params(**pipe_params)\n",
    "\n",
    "        start_time = time.time()\n",
    "        pipe.fit(X_train, y_train)   \n",
    "        end_time = time.time()\n",
    "        \n",
    "        score = pipe.score(X_test, y_test)\n",
    "        \n",
    "        param_dict = {\n",
    "                            'model': model.__class__.__name__,\n",
    "                            'scaler': scaler.__class__.__name__,\n",
    "                            'score': score,\n",
    "                            'time_elapsed': end_time - start_time\n",
    "                }\n",
    " \n",
    "        models_df = pd.concat([pd.DataFrame(param_dict, index=[0]), models_df])  \n",
    " "
   ]
  },
  {
   "cell_type": "markdown",
   "id": "57f9eac2",
   "metadata": {},
   "source": [
    "Let's see what algorythm had best score"
   ]
  },
  {
   "cell_type": "code",
   "execution_count": 114,
   "id": "b95dd90c",
   "metadata": {},
   "outputs": [
    {
     "data": {
      "text/html": [
       "<div>\n",
       "<style scoped>\n",
       "    .dataframe tbody tr th:only-of-type {\n",
       "        vertical-align: middle;\n",
       "    }\n",
       "\n",
       "    .dataframe tbody tr th {\n",
       "        vertical-align: top;\n",
       "    }\n",
       "\n",
       "    .dataframe thead th {\n",
       "        text-align: right;\n",
       "    }\n",
       "</style>\n",
       "<table border=\"1\" class=\"dataframe\">\n",
       "  <thead>\n",
       "    <tr style=\"text-align: right;\">\n",
       "      <th></th>\n",
       "      <th>model</th>\n",
       "      <th>scaler</th>\n",
       "      <th>score</th>\n",
       "      <th>time_elapsed</th>\n",
       "    </tr>\n",
       "  </thead>\n",
       "  <tbody>\n",
       "    <tr>\n",
       "      <th>0</th>\n",
       "      <td>XGBClassifier</td>\n",
       "      <td>MinMaxScaler</td>\n",
       "      <td>0.840350</td>\n",
       "      <td>19.089963</td>\n",
       "    </tr>\n",
       "    <tr>\n",
       "      <th>1</th>\n",
       "      <td>XGBClassifier</td>\n",
       "      <td>StandardScaler</td>\n",
       "      <td>0.840350</td>\n",
       "      <td>16.189717</td>\n",
       "    </tr>\n",
       "    <tr>\n",
       "      <th>2</th>\n",
       "      <td>DecisionTreeClassifier</td>\n",
       "      <td>MinMaxScaler</td>\n",
       "      <td>0.736645</td>\n",
       "      <td>2.448455</td>\n",
       "    </tr>\n",
       "    <tr>\n",
       "      <th>3</th>\n",
       "      <td>DecisionTreeClassifier</td>\n",
       "      <td>StandardScaler</td>\n",
       "      <td>0.734153</td>\n",
       "      <td>2.465444</td>\n",
       "    </tr>\n",
       "    <tr>\n",
       "      <th>4</th>\n",
       "      <td>XGBClassifier</td>\n",
       "      <td>Normalizer</td>\n",
       "      <td>0.732025</td>\n",
       "      <td>38.271681</td>\n",
       "    </tr>\n",
       "    <tr>\n",
       "      <th>5</th>\n",
       "      <td>DecisionTreeClassifier</td>\n",
       "      <td>Normalizer</td>\n",
       "      <td>0.720467</td>\n",
       "      <td>7.425224</td>\n",
       "    </tr>\n",
       "    <tr>\n",
       "      <th>6</th>\n",
       "      <td>LogisticRegression</td>\n",
       "      <td>MinMaxScaler</td>\n",
       "      <td>0.477405</td>\n",
       "      <td>3.082758</td>\n",
       "    </tr>\n",
       "    <tr>\n",
       "      <th>7</th>\n",
       "      <td>LogisticRegression</td>\n",
       "      <td>StandardScaler</td>\n",
       "      <td>0.477010</td>\n",
       "      <td>0.667172</td>\n",
       "    </tr>\n",
       "    <tr>\n",
       "      <th>8</th>\n",
       "      <td>LogisticRegression</td>\n",
       "      <td>Normalizer</td>\n",
       "      <td>0.412362</td>\n",
       "      <td>3.614337</td>\n",
       "    </tr>\n",
       "  </tbody>\n",
       "</table>\n",
       "</div>"
      ],
      "text/plain": [
       "                    model          scaler     score  time_elapsed\n",
       "0           XGBClassifier    MinMaxScaler  0.840350     19.089963\n",
       "1           XGBClassifier  StandardScaler  0.840350     16.189717\n",
       "2  DecisionTreeClassifier    MinMaxScaler  0.736645      2.448455\n",
       "3  DecisionTreeClassifier  StandardScaler  0.734153      2.465444\n",
       "4           XGBClassifier      Normalizer  0.732025     38.271681\n",
       "5  DecisionTreeClassifier      Normalizer  0.720467      7.425224\n",
       "6      LogisticRegression    MinMaxScaler  0.477405      3.082758\n",
       "7      LogisticRegression  StandardScaler  0.477010      0.667172\n",
       "8      LogisticRegression      Normalizer  0.412362      3.614337"
      ]
     },
     "execution_count": 114,
     "metadata": {},
     "output_type": "execute_result"
    }
   ],
   "source": [
    "models_df.sort_values(['score','time_elapsed'], ascending=False, ignore_index=True)"
   ]
  },
  {
   "cell_type": "markdown",
   "id": "403fec2c",
   "metadata": {},
   "source": [
    "Ok, so, XGBoost using Standard Scaler is best combination, let's try to use it to predict and will find best hyperparameters.\n",
    "We use 2 grids combination with four hyper parameters as well.(every dictionary make one gird)"
   ]
  },
  {
   "cell_type": "markdown",
   "id": "c92497cb",
   "metadata": {},
   "source": [
    "### XGBoost Classifier"
   ]
  },
  {
   "cell_type": "code",
   "execution_count": 190,
   "id": "7717449e",
   "metadata": {},
   "outputs": [
    {
     "data": {
      "text/plain": [
       "0.8227057710501419"
      ]
     },
     "execution_count": 190,
     "metadata": {},
     "output_type": "execute_result"
    }
   ],
   "source": [
    "kfold = StratifiedKFold(5, shuffle=True, random_state=123)#we make 5 \"bin\" with random choose\n",
    "pipeline = Pipeline([\n",
    "    ('scaler', StandardScaler()),\n",
    "    ('model', XGBClassifier())\n",
    "    ])\n",
    " \n",
    "\n",
    "params = [{'model__gamma': [0.5,1],\n",
    "           'model__max_depth': [4,6,8]},\n",
    "           {'model__min_child_weight': [5, 10, 30],\n",
    "           'model__learning_rate': [0.1, 3]}]\n",
    "\n",
    "optimizer = GridSearchCV(pipeline,\n",
    "                        params,\n",
    "                        scoring=\"accuracy\",\n",
    "                        cv=kfold,\n",
    "                        n_jobs=-1)\n",
    "\n",
    "optimizer.fit(X_train, y_train)\n",
    "y_pred = optimizer.predict(X_test)\n",
    "accuracy_score(y_test, y_pred)"
   ]
  },
  {
   "cell_type": "markdown",
   "id": "1295cc56",
   "metadata": {},
   "source": [
    "Let's see what hyperparameters was best for our model"
   ]
  },
  {
   "cell_type": "code",
   "execution_count": 200,
   "id": "aca2eee3",
   "metadata": {},
   "outputs": [
    {
     "data": {
      "text/html": [
       "<div>\n",
       "<style scoped>\n",
       "    .dataframe tbody tr th:only-of-type {\n",
       "        vertical-align: middle;\n",
       "    }\n",
       "\n",
       "    .dataframe tbody tr th {\n",
       "        vertical-align: top;\n",
       "    }\n",
       "\n",
       "    .dataframe thead th {\n",
       "        text-align: right;\n",
       "    }\n",
       "</style>\n",
       "<table border=\"1\" class=\"dataframe\">\n",
       "  <thead>\n",
       "    <tr style=\"text-align: right;\">\n",
       "      <th></th>\n",
       "      <th>model__gamma</th>\n",
       "      <th>model__max_depth</th>\n",
       "      <th>model__learning_rate</th>\n",
       "      <th>model__min_child_weight</th>\n",
       "      <th>score</th>\n",
       "    </tr>\n",
       "  </thead>\n",
       "  <tbody>\n",
       "    <tr>\n",
       "      <th>0</th>\n",
       "      <td>1.0</td>\n",
       "      <td>6.0</td>\n",
       "      <td>NaN</td>\n",
       "      <td>NaN</td>\n",
       "      <td>0.913360</td>\n",
       "    </tr>\n",
       "    <tr>\n",
       "      <th>1</th>\n",
       "      <td>0.5</td>\n",
       "      <td>6.0</td>\n",
       "      <td>NaN</td>\n",
       "      <td>NaN</td>\n",
       "      <td>0.913106</td>\n",
       "    </tr>\n",
       "    <tr>\n",
       "      <th>2</th>\n",
       "      <td>0.5</td>\n",
       "      <td>8.0</td>\n",
       "      <td>NaN</td>\n",
       "      <td>NaN</td>\n",
       "      <td>0.912810</td>\n",
       "    </tr>\n",
       "    <tr>\n",
       "      <th>3</th>\n",
       "      <td>1.0</td>\n",
       "      <td>8.0</td>\n",
       "      <td>NaN</td>\n",
       "      <td>NaN</td>\n",
       "      <td>0.912797</td>\n",
       "    </tr>\n",
       "    <tr>\n",
       "      <th>4</th>\n",
       "      <td>1.0</td>\n",
       "      <td>4.0</td>\n",
       "      <td>NaN</td>\n",
       "      <td>NaN</td>\n",
       "      <td>0.911804</td>\n",
       "    </tr>\n",
       "    <tr>\n",
       "      <th>5</th>\n",
       "      <td>0.5</td>\n",
       "      <td>4.0</td>\n",
       "      <td>NaN</td>\n",
       "      <td>NaN</td>\n",
       "      <td>0.911649</td>\n",
       "    </tr>\n",
       "    <tr>\n",
       "      <th>6</th>\n",
       "      <td>NaN</td>\n",
       "      <td>NaN</td>\n",
       "      <td>0.1</td>\n",
       "      <td>10.0</td>\n",
       "      <td>0.904377</td>\n",
       "    </tr>\n",
       "    <tr>\n",
       "      <th>7</th>\n",
       "      <td>NaN</td>\n",
       "      <td>NaN</td>\n",
       "      <td>0.1</td>\n",
       "      <td>30.0</td>\n",
       "      <td>0.904270</td>\n",
       "    </tr>\n",
       "    <tr>\n",
       "      <th>8</th>\n",
       "      <td>NaN</td>\n",
       "      <td>NaN</td>\n",
       "      <td>0.1</td>\n",
       "      <td>5.0</td>\n",
       "      <td>0.903924</td>\n",
       "    </tr>\n",
       "    <tr>\n",
       "      <th>9</th>\n",
       "      <td>NaN</td>\n",
       "      <td>NaN</td>\n",
       "      <td>3.0</td>\n",
       "      <td>30.0</td>\n",
       "      <td>0.625405</td>\n",
       "    </tr>\n",
       "    <tr>\n",
       "      <th>10</th>\n",
       "      <td>NaN</td>\n",
       "      <td>NaN</td>\n",
       "      <td>3.0</td>\n",
       "      <td>5.0</td>\n",
       "      <td>0.619285</td>\n",
       "    </tr>\n",
       "    <tr>\n",
       "      <th>11</th>\n",
       "      <td>NaN</td>\n",
       "      <td>NaN</td>\n",
       "      <td>3.0</td>\n",
       "      <td>10.0</td>\n",
       "      <td>0.612435</td>\n",
       "    </tr>\n",
       "  </tbody>\n",
       "</table>\n",
       "</div>"
      ],
      "text/plain": [
       "    model__gamma  model__max_depth  model__learning_rate  \\\n",
       "0            1.0               6.0                   NaN   \n",
       "1            0.5               6.0                   NaN   \n",
       "2            0.5               8.0                   NaN   \n",
       "3            1.0               8.0                   NaN   \n",
       "4            1.0               4.0                   NaN   \n",
       "5            0.5               4.0                   NaN   \n",
       "6            NaN               NaN                   0.1   \n",
       "7            NaN               NaN                   0.1   \n",
       "8            NaN               NaN                   0.1   \n",
       "9            NaN               NaN                   3.0   \n",
       "10           NaN               NaN                   3.0   \n",
       "11           NaN               NaN                   3.0   \n",
       "\n",
       "    model__min_child_weight     score  \n",
       "0                       NaN  0.913360  \n",
       "1                       NaN  0.913106  \n",
       "2                       NaN  0.912810  \n",
       "3                       NaN  0.912797  \n",
       "4                       NaN  0.911804  \n",
       "5                       NaN  0.911649  \n",
       "6                      10.0  0.904377  \n",
       "7                      30.0  0.904270  \n",
       "8                       5.0  0.903924  \n",
       "9                      30.0  0.625405  \n",
       "10                      5.0  0.619285  \n",
       "11                     10.0  0.612435  "
      ]
     },
     "execution_count": 200,
     "metadata": {},
     "output_type": "execute_result"
    }
   ],
   "source": [
    "summury_hyperp = pd.DataFrame(optimizer.cv_results_['params'])\n",
    "summury_hyperp.insert(4, 'score', optimizer.cv_results_['mean_test_score'])\n",
    "summury_hyperp.sort_values(['score'], ascending=False, ignore_index=True)"
   ]
  },
  {
   "cell_type": "markdown",
   "id": "b3ed37b4",
   "metadata": {},
   "source": [
    "## Summury"
   ]
  },
  {
   "cell_type": "markdown",
   "id": "ea5d1135",
   "metadata": {},
   "source": [
    "Finally, we obtain 0.82 with accuracy_score metrics which is a function that is used to calculate the accuracy of a classification model.<br>Hyperparameters had not big impact to best score, but quite big impact to worst score :) <br>\n",
    "0.82 is a quite nice value if we talko about passing final project , but if we talk about medical purpose, we should find better model :)"
   ]
  }
 ],
 "metadata": {
  "kernelspec": {
   "display_name": "Python 3 (ipykernel)",
   "language": "python",
   "name": "python3"
  },
  "language_info": {
   "codemirror_mode": {
    "name": "ipython",
    "version": 3
   },
   "file_extension": ".py",
   "mimetype": "text/x-python",
   "name": "python",
   "nbconvert_exporter": "python",
   "pygments_lexer": "ipython3",
   "version": "3.9.12"
  }
 },
 "nbformat": 4,
 "nbformat_minor": 5
}
