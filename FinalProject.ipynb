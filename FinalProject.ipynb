{
 "cells": [
  {
   "cell_type": "markdown",
   "id": "26bcdb5c",
   "metadata": {},
   "source": [
    "# Predicting Diabetes Indicators\n"
   ]
  },
  {
   "cell_type": "markdown",
   "id": "0a5d5859",
   "metadata": {},
   "source": [
    "1. Abstract\n",
    "2. About Dataset\n",
    "3. Prerequisites\n",
    "4. Data review\n",
    "5. Feature extraction\n",
    "6. Training model\n",
    "7. Comparision Logistic Reggresion vs Decision Trees vs XGBoost\n",
    "8. Summury"
   ]
  },
  {
   "cell_type": "markdown",
   "id": "cfc0aa3a",
   "metadata": {},
   "source": [
    "## Abstract\n",
    "\n",
    " The goals of this project is to predict posible to get diabetes based on annually, a health-related telephone survay by The Behavioral Risk Factor Surveillance System (BRFSS)"
   ]
  },
  {
   "cell_type": "markdown",
   "id": "e262756f",
   "metadata": {},
   "source": [
    "## About dataset\n"
   ]
  },
  {
   "cell_type": "markdown",
   "id": "19a9b1c5",
   "metadata": {},
   "source": [
    "The Behavioral Risk Factor Surveillance System (BRFSS) is a health-related telephone survey that is collected annually by the CDC. Each year, the survey collects responses from over 400,000 Americans on health-related risk behaviors, chronic health conditions, and the use of preventative services. It has been conducted every year since 1984. For this project, a csv of the dataset available on Kaggle for the year 2015 was used. This original dataset contains responses from 441,455 individuals and has 330 features.<br>\n",
    "In this project we use third dataset wchich is a clean dataset of 253,680 survey responses to the CDC's BRFSS2015. The target variable Diabetes_binary has 2 classes. 0 is for no diabetes, and 1 is for prediabetes or diabetes. This dataset has 21 feature variables and is not balanced."
   ]
  },
  {
   "cell_type": "markdown",
   "id": "bfdf506b",
   "metadata": {},
   "source": [
    "## Prerequisites"
   ]
  },
  {
   "cell_type": "code",
   "execution_count": 59,
   "id": "8c2faf56",
   "metadata": {},
   "outputs": [],
   "source": [
    "import pandas as pd\n",
    "import sklearn\n",
    "import seaborn as sns\n",
    "import matplotlib.pyplot as plt\n",
    "from imblearn.over_sampling import SMOTE\n",
    "from sklearn.linear_model import LogisticRegression\n",
    "from sklearn.model_selection import train_test_split, GridSearchCV\n",
    "from sklearn.tree import DecisionTreeClassifier\n",
    "from sklearn.metrics import accuracy_score, f1_score\n",
    "from sklearn.model_selection import KFold, StratifiedKFold #for unbalanced data\n",
    "from sklearn.pipeline import Pipeline\n",
    "from sklearn.preprocessing import StandardScaler, MinMaxScaler, Normalizer\n",
    "from sklearn.compose import ColumnTransformer\n",
    "from xgboost.sklearn import XGBClassifier\n",
    "import time"
   ]
  },
  {
   "cell_type": "markdown",
   "id": "fffdc73a",
   "metadata": {},
   "source": [
    "## Data review\n",
    "\n",
    "\n",
    "File name: diabetes_binary_health_indicators_BRFSS2015.csv<br>\n",
    "Source: "
   ]
  },
  {
   "cell_type": "markdown",
   "id": "d99a1050",
   "metadata": {},
   "source": [
    "https://www.kaggle.com/datasets/alexteboul/diabetes-health-indicators-dataset"
   ]
  },
  {
   "cell_type": "markdown",
   "id": "ee85d3af",
   "metadata": {},
   "source": [
    "Under this link we can find out whole describe of columns."
   ]
  },
  {
   "cell_type": "markdown",
   "id": "99c76b9a",
   "metadata": {},
   "source": [
    "https://www.kaggle.com/code/alexteboul/diabetes-health-indicators-dataset-notebook"
   ]
  },
  {
   "cell_type": "markdown",
   "id": "c7f4ea8b",
   "metadata": {},
   "source": [
    "So, let's see basiscs of our data."
   ]
  },
  {
   "cell_type": "code",
   "execution_count": 60,
   "id": "0b090ea2",
   "metadata": {},
   "outputs": [],
   "source": [
    "data = pd.read_csv(r'C:\\Users\\pdrynkowski\\ds\\diabetes_binary_health_indicators_BRFSS2015.csv')"
   ]
  },
  {
   "cell_type": "markdown",
   "id": "96551a67",
   "metadata": {},
   "source": [
    "Primary information about dataset"
   ]
  },
  {
   "cell_type": "code",
   "execution_count": 142,
   "id": "b0a73c99",
   "metadata": {},
   "outputs": [
    {
     "data": {
      "text/html": [
       "<div>\n",
       "<style scoped>\n",
       "    .dataframe tbody tr th:only-of-type {\n",
       "        vertical-align: middle;\n",
       "    }\n",
       "\n",
       "    .dataframe tbody tr th {\n",
       "        vertical-align: top;\n",
       "    }\n",
       "\n",
       "    .dataframe thead th {\n",
       "        text-align: right;\n",
       "    }\n",
       "</style>\n",
       "<table border=\"1\" class=\"dataframe\">\n",
       "  <thead>\n",
       "    <tr style=\"text-align: right;\">\n",
       "      <th></th>\n",
       "      <th>Diabetes_binary</th>\n",
       "      <th>HighBP</th>\n",
       "      <th>HighChol</th>\n",
       "      <th>CholCheck</th>\n",
       "      <th>BMI</th>\n",
       "      <th>BMI_Range</th>\n",
       "      <th>Smoker</th>\n",
       "      <th>Stroke</th>\n",
       "      <th>HeartDiseaseorAttack</th>\n",
       "      <th>PhysActivity</th>\n",
       "      <th>...</th>\n",
       "      <th>AnyHealthcare</th>\n",
       "      <th>NoDocbcCost</th>\n",
       "      <th>GenHlth</th>\n",
       "      <th>MentHlth</th>\n",
       "      <th>PhysHlth</th>\n",
       "      <th>DiffWalk</th>\n",
       "      <th>Sex</th>\n",
       "      <th>Age</th>\n",
       "      <th>Education</th>\n",
       "      <th>Income</th>\n",
       "    </tr>\n",
       "  </thead>\n",
       "  <tbody>\n",
       "    <tr>\n",
       "      <th>0</th>\n",
       "      <td>0.0</td>\n",
       "      <td>1.0</td>\n",
       "      <td>1.0</td>\n",
       "      <td>1.0</td>\n",
       "      <td>40.0</td>\n",
       "      <td>Huge_obesity</td>\n",
       "      <td>1.0</td>\n",
       "      <td>0.0</td>\n",
       "      <td>0.0</td>\n",
       "      <td>0.0</td>\n",
       "      <td>...</td>\n",
       "      <td>1.0</td>\n",
       "      <td>0.0</td>\n",
       "      <td>5.0</td>\n",
       "      <td>18.0</td>\n",
       "      <td>15.0</td>\n",
       "      <td>1.0</td>\n",
       "      <td>0.0</td>\n",
       "      <td>9.0</td>\n",
       "      <td>4.0</td>\n",
       "      <td>3.0</td>\n",
       "    </tr>\n",
       "    <tr>\n",
       "      <th>1</th>\n",
       "      <td>0.0</td>\n",
       "      <td>0.0</td>\n",
       "      <td>0.0</td>\n",
       "      <td>0.0</td>\n",
       "      <td>25.0</td>\n",
       "      <td>Over_weight</td>\n",
       "      <td>1.0</td>\n",
       "      <td>0.0</td>\n",
       "      <td>0.0</td>\n",
       "      <td>1.0</td>\n",
       "      <td>...</td>\n",
       "      <td>0.0</td>\n",
       "      <td>1.0</td>\n",
       "      <td>3.0</td>\n",
       "      <td>0.0</td>\n",
       "      <td>0.0</td>\n",
       "      <td>0.0</td>\n",
       "      <td>0.0</td>\n",
       "      <td>7.0</td>\n",
       "      <td>6.0</td>\n",
       "      <td>1.0</td>\n",
       "    </tr>\n",
       "    <tr>\n",
       "      <th>2</th>\n",
       "      <td>0.0</td>\n",
       "      <td>1.0</td>\n",
       "      <td>1.0</td>\n",
       "      <td>1.0</td>\n",
       "      <td>28.0</td>\n",
       "      <td>Over_weight</td>\n",
       "      <td>0.0</td>\n",
       "      <td>0.0</td>\n",
       "      <td>0.0</td>\n",
       "      <td>0.0</td>\n",
       "      <td>...</td>\n",
       "      <td>1.0</td>\n",
       "      <td>1.0</td>\n",
       "      <td>5.0</td>\n",
       "      <td>30.0</td>\n",
       "      <td>30.0</td>\n",
       "      <td>1.0</td>\n",
       "      <td>0.0</td>\n",
       "      <td>9.0</td>\n",
       "      <td>4.0</td>\n",
       "      <td>8.0</td>\n",
       "    </tr>\n",
       "    <tr>\n",
       "      <th>3</th>\n",
       "      <td>0.0</td>\n",
       "      <td>1.0</td>\n",
       "      <td>0.0</td>\n",
       "      <td>1.0</td>\n",
       "      <td>27.0</td>\n",
       "      <td>Over_weight</td>\n",
       "      <td>0.0</td>\n",
       "      <td>0.0</td>\n",
       "      <td>0.0</td>\n",
       "      <td>1.0</td>\n",
       "      <td>...</td>\n",
       "      <td>1.0</td>\n",
       "      <td>0.0</td>\n",
       "      <td>2.0</td>\n",
       "      <td>0.0</td>\n",
       "      <td>0.0</td>\n",
       "      <td>0.0</td>\n",
       "      <td>0.0</td>\n",
       "      <td>11.0</td>\n",
       "      <td>3.0</td>\n",
       "      <td>6.0</td>\n",
       "    </tr>\n",
       "    <tr>\n",
       "      <th>4</th>\n",
       "      <td>0.0</td>\n",
       "      <td>1.0</td>\n",
       "      <td>1.0</td>\n",
       "      <td>1.0</td>\n",
       "      <td>24.0</td>\n",
       "      <td>Over_weight</td>\n",
       "      <td>0.0</td>\n",
       "      <td>0.0</td>\n",
       "      <td>0.0</td>\n",
       "      <td>1.0</td>\n",
       "      <td>...</td>\n",
       "      <td>1.0</td>\n",
       "      <td>0.0</td>\n",
       "      <td>2.0</td>\n",
       "      <td>3.0</td>\n",
       "      <td>0.0</td>\n",
       "      <td>0.0</td>\n",
       "      <td>0.0</td>\n",
       "      <td>11.0</td>\n",
       "      <td>5.0</td>\n",
       "      <td>4.0</td>\n",
       "    </tr>\n",
       "  </tbody>\n",
       "</table>\n",
       "<p>5 rows × 23 columns</p>\n",
       "</div>"
      ],
      "text/plain": [
       "   Diabetes_binary  HighBP  HighChol  CholCheck   BMI     BMI_Range  Smoker  \\\n",
       "0              0.0     1.0       1.0        1.0  40.0  Huge_obesity     1.0   \n",
       "1              0.0     0.0       0.0        0.0  25.0   Over_weight     1.0   \n",
       "2              0.0     1.0       1.0        1.0  28.0   Over_weight     0.0   \n",
       "3              0.0     1.0       0.0        1.0  27.0   Over_weight     0.0   \n",
       "4              0.0     1.0       1.0        1.0  24.0   Over_weight     0.0   \n",
       "\n",
       "   Stroke  HeartDiseaseorAttack  PhysActivity  ...  AnyHealthcare  \\\n",
       "0     0.0                   0.0           0.0  ...            1.0   \n",
       "1     0.0                   0.0           1.0  ...            0.0   \n",
       "2     0.0                   0.0           0.0  ...            1.0   \n",
       "3     0.0                   0.0           1.0  ...            1.0   \n",
       "4     0.0                   0.0           1.0  ...            1.0   \n",
       "\n",
       "   NoDocbcCost  GenHlth  MentHlth  PhysHlth  DiffWalk  Sex   Age  Education  \\\n",
       "0          0.0      5.0      18.0      15.0       1.0  0.0   9.0        4.0   \n",
       "1          1.0      3.0       0.0       0.0       0.0  0.0   7.0        6.0   \n",
       "2          1.0      5.0      30.0      30.0       1.0  0.0   9.0        4.0   \n",
       "3          0.0      2.0       0.0       0.0       0.0  0.0  11.0        3.0   \n",
       "4          0.0      2.0       3.0       0.0       0.0  0.0  11.0        5.0   \n",
       "\n",
       "   Income  \n",
       "0     3.0  \n",
       "1     1.0  \n",
       "2     8.0  \n",
       "3     6.0  \n",
       "4     4.0  \n",
       "\n",
       "[5 rows x 23 columns]"
      ]
     },
     "execution_count": 142,
     "metadata": {},
     "output_type": "execute_result"
    }
   ],
   "source": [
    "data.head()"
   ]
  },
  {
   "cell_type": "code",
   "execution_count": 62,
   "id": "1d77a7e2",
   "metadata": {},
   "outputs": [
    {
     "name": "stdout",
     "output_type": "stream",
     "text": [
      "<class 'pandas.core.frame.DataFrame'>\n",
      "RangeIndex: 253680 entries, 0 to 253679\n",
      "Data columns (total 22 columns):\n",
      " #   Column                Non-Null Count   Dtype  \n",
      "---  ------                --------------   -----  \n",
      " 0   Diabetes_binary       253680 non-null  float64\n",
      " 1   HighBP                253680 non-null  float64\n",
      " 2   HighChol              253680 non-null  float64\n",
      " 3   CholCheck             253680 non-null  float64\n",
      " 4   BMI                   253680 non-null  float64\n",
      " 5   Smoker                253680 non-null  float64\n",
      " 6   Stroke                253680 non-null  float64\n",
      " 7   HeartDiseaseorAttack  253680 non-null  float64\n",
      " 8   PhysActivity          253680 non-null  float64\n",
      " 9   Fruits                253680 non-null  float64\n",
      " 10  Veggies               253680 non-null  float64\n",
      " 11  HvyAlcoholConsump     253680 non-null  float64\n",
      " 12  AnyHealthcare         253680 non-null  float64\n",
      " 13  NoDocbcCost           253680 non-null  float64\n",
      " 14  GenHlth               253680 non-null  float64\n",
      " 15  MentHlth              253680 non-null  float64\n",
      " 16  PhysHlth              253680 non-null  float64\n",
      " 17  DiffWalk              253680 non-null  float64\n",
      " 18  Sex                   253680 non-null  float64\n",
      " 19  Age                   253680 non-null  float64\n",
      " 20  Education             253680 non-null  float64\n",
      " 21  Income                253680 non-null  float64\n",
      "dtypes: float64(22)\n",
      "memory usage: 42.6 MB\n"
     ]
    }
   ],
   "source": [
    "data.info()"
   ]
  },
  {
   "cell_type": "code",
   "execution_count": 63,
   "id": "aaa8f28f",
   "metadata": {},
   "outputs": [
    {
     "data": {
      "image/png": "[encoded data removed]",
      "text/plain": [
       "<Figure size 720x576 with 2 Axes>"
      ]
     },
     "metadata": {},
     "output_type": "display_data"
    }
   ],
   "source": [
    "#Heat map\n",
    "plt.figure(figsize=(10,8))\n",
    "p = sns.heatmap(data.corr(), annot=False,cmap =\"RdYlGn\", robust=False)"
   ]
  },
  {
   "cell_type": "code",
   "execution_count": 64,
   "id": "6b4dc19e",
   "metadata": {},
   "outputs": [
    {
     "data": {
      "text/plain": [
       "Diabetes_binary         0\n",
       "HighBP                  0\n",
       "HighChol                0\n",
       "CholCheck               0\n",
       "BMI                     0\n",
       "Smoker                  0\n",
       "Stroke                  0\n",
       "HeartDiseaseorAttack    0\n",
       "PhysActivity            0\n",
       "Fruits                  0\n",
       "Veggies                 0\n",
       "HvyAlcoholConsump       0\n",
       "AnyHealthcare           0\n",
       "NoDocbcCost             0\n",
       "GenHlth                 0\n",
       "MentHlth                0\n",
       "PhysHlth                0\n",
       "DiffWalk                0\n",
       "Sex                     0\n",
       "Age                     0\n",
       "Education               0\n",
       "Income                  0\n",
       "dtype: int64"
      ]
     },
     "execution_count": 64,
     "metadata": {},
     "output_type": "execute_result"
    }
   ],
   "source": [
    "data.isnull().sum()"
   ]
  },
  {
   "cell_type": "markdown",
   "id": "be87faca",
   "metadata": {},
   "source": [
    " As we can see, all of the data is complete, no missing data in any of column, all of them are float type."
   ]
  },
  {
   "cell_type": "markdown",
   "id": "dc067b13",
   "metadata": {},
   "source": [
    "# Feature Extraction"
   ]
  },
  {
   "cell_type": "markdown",
   "id": "19bb7698",
   "metadata": {},
   "source": [
    "Column Diabetes_binary is our target to predict.<BR>\n",
    "Columns HighBP, HighChol, CholCheck are binary, so we can easly transform the data to one hot coding.<br>\n",
    "BMI data has vary diffrent values, so we can try to transform it to some range, But firstly we looks at data distribution using BoxPlot by Seborn module."
   ]
  },
  {
   "cell_type": "code",
   "execution_count": 65,
   "id": "b46a1d8e",
   "metadata": {},
   "outputs": [
    {
     "data": {
      "text/plain": [
       "<AxesSubplot:>"
      ]
     },
     "execution_count": 65,
     "metadata": {},
     "output_type": "execute_result"
    },
    {
     "data": {
      "image/png": "[encoded data removed]",
      "text/plain": [
       "<Figure size 576x576 with 1 Axes>"
      ]
     },
     "metadata": {},
     "output_type": "display_data"
    }
   ],
   "source": [
    "sns.set(rc={'figure.figsize':(8,8)})\n",
    "sns.set_style(\"white\")\n",
    "sns.boxplot(data=data.BMI.value_counts().index)"
   ]
  },
  {
   "cell_type": "markdown",
   "id": "ea270865",
   "metadata": {},
   "source": [
    "As we can see, quartiles of data is balanced, but both of whiskeres are big, I think it can bad impact to predict, because some level of obesity (e.g. 35 +) is enough to be unheathy.<BR/>\n",
    "However,  we dont trunc any data, instead,  divide the data to five bins, to transpose data as categories, starts from 12 beacouse this is minimum value."
   ]
  },
  {
   "cell_type": "code",
   "execution_count": 66,
   "id": "6da69997",
   "metadata": {},
   "outputs": [],
   "source": [
    "#start from copy original data\n",
    "diabetes = data;"
   ]
  },
  {
   "cell_type": "code",
   "execution_count": 67,
   "id": "63a0701d",
   "metadata": {},
   "outputs": [],
   "source": [
    "bins = [12,20,30,40,60,100]\n",
    "categories=[\"Normal\",\"Over_weight\",\"Obesity\",\"Huge_obesity\",\"Max_obesity\"]\n",
    "diabetes.insert(5,\"BMI_Range\", pd.cut(diabetes.BMI,bins=bins,labels=categories,right=False))\n",
    "\n",
    " "
   ]
  },
  {
   "cell_type": "code",
   "execution_count": 68,
   "id": "27e96007",
   "metadata": {},
   "outputs": [],
   "source": [
    "diabetes = diabetes.drop([\"BMI\"], axis=1)"
   ]
  },
  {
   "cell_type": "markdown",
   "id": "2ef2a403",
   "metadata": {},
   "source": [
    " Let's see how the data of BMI marker looks now"
   ]
  },
  {
   "cell_type": "code",
   "execution_count": 69,
   "id": "541645a4",
   "metadata": {},
   "outputs": [
    {
     "data": {
      "text/plain": [
       "Over_weight     158734\n",
       "Obesity          74114\n",
       "Huge_obesity     12869\n",
       "Normal            7095\n",
       "Max_obesity        868\n",
       "Name: BMI_Range, dtype: int64"
      ]
     },
     "execution_count": 69,
     "metadata": {},
     "output_type": "execute_result"
    }
   ],
   "source": [
    "diabetes.BMI_Range.value_counts()\n"
   ]
  },
  {
   "cell_type": "markdown",
   "id": "02b0b923",
   "metadata": {},
   "source": [
    "Gosh, Over weight bin is the biggest, but we should remember the data is from investigation of 2015 year :)"
   ]
  },
  {
   "cell_type": "code",
   "execution_count": 70,
   "id": "e3da1739",
   "metadata": {},
   "outputs": [
    {
     "data": {
      "text/html": [
       "<div>\n",
       "<style scoped>\n",
       "    .dataframe tbody tr th:only-of-type {\n",
       "        vertical-align: middle;\n",
       "    }\n",
       "\n",
       "    .dataframe tbody tr th {\n",
       "        vertical-align: top;\n",
       "    }\n",
       "\n",
       "    .dataframe thead th {\n",
       "        text-align: right;\n",
       "    }\n",
       "</style>\n",
       "<table border=\"1\" class=\"dataframe\">\n",
       "  <thead>\n",
       "    <tr style=\"text-align: right;\">\n",
       "      <th></th>\n",
       "      <th>Diabetes_binary</th>\n",
       "      <th>HighBP</th>\n",
       "      <th>HighChol</th>\n",
       "      <th>CholCheck</th>\n",
       "      <th>BMI_Range</th>\n",
       "      <th>Smoker</th>\n",
       "      <th>Stroke</th>\n",
       "      <th>HeartDiseaseorAttack</th>\n",
       "      <th>PhysActivity</th>\n",
       "      <th>Fruits</th>\n",
       "      <th>...</th>\n",
       "      <th>AnyHealthcare</th>\n",
       "      <th>NoDocbcCost</th>\n",
       "      <th>GenHlth</th>\n",
       "      <th>MentHlth</th>\n",
       "      <th>PhysHlth</th>\n",
       "      <th>DiffWalk</th>\n",
       "      <th>Sex</th>\n",
       "      <th>Age</th>\n",
       "      <th>Education</th>\n",
       "      <th>Income</th>\n",
       "    </tr>\n",
       "  </thead>\n",
       "  <tbody>\n",
       "    <tr>\n",
       "      <th>0</th>\n",
       "      <td>0.0</td>\n",
       "      <td>1.0</td>\n",
       "      <td>1.0</td>\n",
       "      <td>1.0</td>\n",
       "      <td>Huge_obesity</td>\n",
       "      <td>1.0</td>\n",
       "      <td>0.0</td>\n",
       "      <td>0.0</td>\n",
       "      <td>0.0</td>\n",
       "      <td>0.0</td>\n",
       "      <td>...</td>\n",
       "      <td>1.0</td>\n",
       "      <td>0.0</td>\n",
       "      <td>5.0</td>\n",
       "      <td>18.0</td>\n",
       "      <td>15.0</td>\n",
       "      <td>1.0</td>\n",
       "      <td>0.0</td>\n",
       "      <td>9.0</td>\n",
       "      <td>4.0</td>\n",
       "      <td>3.0</td>\n",
       "    </tr>\n",
       "    <tr>\n",
       "      <th>1</th>\n",
       "      <td>0.0</td>\n",
       "      <td>0.0</td>\n",
       "      <td>0.0</td>\n",
       "      <td>0.0</td>\n",
       "      <td>Over_weight</td>\n",
       "      <td>1.0</td>\n",
       "      <td>0.0</td>\n",
       "      <td>0.0</td>\n",
       "      <td>1.0</td>\n",
       "      <td>0.0</td>\n",
       "      <td>...</td>\n",
       "      <td>0.0</td>\n",
       "      <td>1.0</td>\n",
       "      <td>3.0</td>\n",
       "      <td>0.0</td>\n",
       "      <td>0.0</td>\n",
       "      <td>0.0</td>\n",
       "      <td>0.0</td>\n",
       "      <td>7.0</td>\n",
       "      <td>6.0</td>\n",
       "      <td>1.0</td>\n",
       "    </tr>\n",
       "    <tr>\n",
       "      <th>2</th>\n",
       "      <td>0.0</td>\n",
       "      <td>1.0</td>\n",
       "      <td>1.0</td>\n",
       "      <td>1.0</td>\n",
       "      <td>Over_weight</td>\n",
       "      <td>0.0</td>\n",
       "      <td>0.0</td>\n",
       "      <td>0.0</td>\n",
       "      <td>0.0</td>\n",
       "      <td>1.0</td>\n",
       "      <td>...</td>\n",
       "      <td>1.0</td>\n",
       "      <td>1.0</td>\n",
       "      <td>5.0</td>\n",
       "      <td>30.0</td>\n",
       "      <td>30.0</td>\n",
       "      <td>1.0</td>\n",
       "      <td>0.0</td>\n",
       "      <td>9.0</td>\n",
       "      <td>4.0</td>\n",
       "      <td>8.0</td>\n",
       "    </tr>\n",
       "    <tr>\n",
       "      <th>3</th>\n",
       "      <td>0.0</td>\n",
       "      <td>1.0</td>\n",
       "      <td>0.0</td>\n",
       "      <td>1.0</td>\n",
       "      <td>Over_weight</td>\n",
       "      <td>0.0</td>\n",
       "      <td>0.0</td>\n",
       "      <td>0.0</td>\n",
       "      <td>1.0</td>\n",
       "      <td>1.0</td>\n",
       "      <td>...</td>\n",
       "      <td>1.0</td>\n",
       "      <td>0.0</td>\n",
       "      <td>2.0</td>\n",
       "      <td>0.0</td>\n",
       "      <td>0.0</td>\n",
       "      <td>0.0</td>\n",
       "      <td>0.0</td>\n",
       "      <td>11.0</td>\n",
       "      <td>3.0</td>\n",
       "      <td>6.0</td>\n",
       "    </tr>\n",
       "    <tr>\n",
       "      <th>4</th>\n",
       "      <td>0.0</td>\n",
       "      <td>1.0</td>\n",
       "      <td>1.0</td>\n",
       "      <td>1.0</td>\n",
       "      <td>Over_weight</td>\n",
       "      <td>0.0</td>\n",
       "      <td>0.0</td>\n",
       "      <td>0.0</td>\n",
       "      <td>1.0</td>\n",
       "      <td>1.0</td>\n",
       "      <td>...</td>\n",
       "      <td>1.0</td>\n",
       "      <td>0.0</td>\n",
       "      <td>2.0</td>\n",
       "      <td>3.0</td>\n",
       "      <td>0.0</td>\n",
       "      <td>0.0</td>\n",
       "      <td>0.0</td>\n",
       "      <td>11.0</td>\n",
       "      <td>5.0</td>\n",
       "      <td>4.0</td>\n",
       "    </tr>\n",
       "    <tr>\n",
       "      <th>...</th>\n",
       "      <td>...</td>\n",
       "      <td>...</td>\n",
       "      <td>...</td>\n",
       "      <td>...</td>\n",
       "      <td>...</td>\n",
       "      <td>...</td>\n",
       "      <td>...</td>\n",
       "      <td>...</td>\n",
       "      <td>...</td>\n",
       "      <td>...</td>\n",
       "      <td>...</td>\n",
       "      <td>...</td>\n",
       "      <td>...</td>\n",
       "      <td>...</td>\n",
       "      <td>...</td>\n",
       "      <td>...</td>\n",
       "      <td>...</td>\n",
       "      <td>...</td>\n",
       "      <td>...</td>\n",
       "      <td>...</td>\n",
       "      <td>...</td>\n",
       "    </tr>\n",
       "    <tr>\n",
       "      <th>253675</th>\n",
       "      <td>0.0</td>\n",
       "      <td>1.0</td>\n",
       "      <td>1.0</td>\n",
       "      <td>1.0</td>\n",
       "      <td>Huge_obesity</td>\n",
       "      <td>0.0</td>\n",
       "      <td>0.0</td>\n",
       "      <td>0.0</td>\n",
       "      <td>0.0</td>\n",
       "      <td>1.0</td>\n",
       "      <td>...</td>\n",
       "      <td>1.0</td>\n",
       "      <td>0.0</td>\n",
       "      <td>3.0</td>\n",
       "      <td>0.0</td>\n",
       "      <td>5.0</td>\n",
       "      <td>0.0</td>\n",
       "      <td>1.0</td>\n",
       "      <td>5.0</td>\n",
       "      <td>6.0</td>\n",
       "      <td>7.0</td>\n",
       "    </tr>\n",
       "    <tr>\n",
       "      <th>253676</th>\n",
       "      <td>1.0</td>\n",
       "      <td>1.0</td>\n",
       "      <td>1.0</td>\n",
       "      <td>1.0</td>\n",
       "      <td>Normal</td>\n",
       "      <td>0.0</td>\n",
       "      <td>0.0</td>\n",
       "      <td>0.0</td>\n",
       "      <td>0.0</td>\n",
       "      <td>0.0</td>\n",
       "      <td>...</td>\n",
       "      <td>1.0</td>\n",
       "      <td>0.0</td>\n",
       "      <td>4.0</td>\n",
       "      <td>0.0</td>\n",
       "      <td>0.0</td>\n",
       "      <td>1.0</td>\n",
       "      <td>0.0</td>\n",
       "      <td>11.0</td>\n",
       "      <td>2.0</td>\n",
       "      <td>4.0</td>\n",
       "    </tr>\n",
       "    <tr>\n",
       "      <th>253677</th>\n",
       "      <td>0.0</td>\n",
       "      <td>0.0</td>\n",
       "      <td>0.0</td>\n",
       "      <td>1.0</td>\n",
       "      <td>Over_weight</td>\n",
       "      <td>0.0</td>\n",
       "      <td>0.0</td>\n",
       "      <td>0.0</td>\n",
       "      <td>1.0</td>\n",
       "      <td>1.0</td>\n",
       "      <td>...</td>\n",
       "      <td>1.0</td>\n",
       "      <td>0.0</td>\n",
       "      <td>1.0</td>\n",
       "      <td>0.0</td>\n",
       "      <td>0.0</td>\n",
       "      <td>0.0</td>\n",
       "      <td>0.0</td>\n",
       "      <td>2.0</td>\n",
       "      <td>5.0</td>\n",
       "      <td>2.0</td>\n",
       "    </tr>\n",
       "    <tr>\n",
       "      <th>253678</th>\n",
       "      <td>0.0</td>\n",
       "      <td>1.0</td>\n",
       "      <td>0.0</td>\n",
       "      <td>1.0</td>\n",
       "      <td>Over_weight</td>\n",
       "      <td>0.0</td>\n",
       "      <td>0.0</td>\n",
       "      <td>0.0</td>\n",
       "      <td>0.0</td>\n",
       "      <td>1.0</td>\n",
       "      <td>...</td>\n",
       "      <td>1.0</td>\n",
       "      <td>0.0</td>\n",
       "      <td>3.0</td>\n",
       "      <td>0.0</td>\n",
       "      <td>0.0</td>\n",
       "      <td>0.0</td>\n",
       "      <td>1.0</td>\n",
       "      <td>7.0</td>\n",
       "      <td>5.0</td>\n",
       "      <td>1.0</td>\n",
       "    </tr>\n",
       "    <tr>\n",
       "      <th>253679</th>\n",
       "      <td>1.0</td>\n",
       "      <td>1.0</td>\n",
       "      <td>1.0</td>\n",
       "      <td>1.0</td>\n",
       "      <td>Over_weight</td>\n",
       "      <td>0.0</td>\n",
       "      <td>0.0</td>\n",
       "      <td>1.0</td>\n",
       "      <td>1.0</td>\n",
       "      <td>1.0</td>\n",
       "      <td>...</td>\n",
       "      <td>1.0</td>\n",
       "      <td>0.0</td>\n",
       "      <td>2.0</td>\n",
       "      <td>0.0</td>\n",
       "      <td>0.0</td>\n",
       "      <td>0.0</td>\n",
       "      <td>0.0</td>\n",
       "      <td>9.0</td>\n",
       "      <td>6.0</td>\n",
       "      <td>2.0</td>\n",
       "    </tr>\n",
       "  </tbody>\n",
       "</table>\n",
       "<p>253680 rows × 22 columns</p>\n",
       "</div>"
      ],
      "text/plain": [
       "        Diabetes_binary  HighBP  HighChol  CholCheck     BMI_Range  Smoker  \\\n",
       "0                   0.0     1.0       1.0        1.0  Huge_obesity     1.0   \n",
       "1                   0.0     0.0       0.0        0.0   Over_weight     1.0   \n",
       "2                   0.0     1.0       1.0        1.0   Over_weight     0.0   \n",
       "3                   0.0     1.0       0.0        1.0   Over_weight     0.0   \n",
       "4                   0.0     1.0       1.0        1.0   Over_weight     0.0   \n",
       "...                 ...     ...       ...        ...           ...     ...   \n",
       "253675              0.0     1.0       1.0        1.0  Huge_obesity     0.0   \n",
       "253676              1.0     1.0       1.0        1.0        Normal     0.0   \n",
       "253677              0.0     0.0       0.0        1.0   Over_weight     0.0   \n",
       "253678              0.0     1.0       0.0        1.0   Over_weight     0.0   \n",
       "253679              1.0     1.0       1.0        1.0   Over_weight     0.0   \n",
       "\n",
       "        Stroke  HeartDiseaseorAttack  PhysActivity  Fruits  ...  \\\n",
       "0          0.0                   0.0           0.0     0.0  ...   \n",
       "1          0.0                   0.0           1.0     0.0  ...   \n",
       "2          0.0                   0.0           0.0     1.0  ...   \n",
       "3          0.0                   0.0           1.0     1.0  ...   \n",
       "4          0.0                   0.0           1.0     1.0  ...   \n",
       "...        ...                   ...           ...     ...  ...   \n",
       "253675     0.0                   0.0           0.0     1.0  ...   \n",
       "253676     0.0                   0.0           0.0     0.0  ...   \n",
       "253677     0.0                   0.0           1.0     1.0  ...   \n",
       "253678     0.0                   0.0           0.0     1.0  ...   \n",
       "253679     0.0                   1.0           1.0     1.0  ...   \n",
       "\n",
       "        AnyHealthcare  NoDocbcCost  GenHlth  MentHlth  PhysHlth  DiffWalk  \\\n",
       "0                 1.0          0.0      5.0      18.0      15.0       1.0   \n",
       "1                 0.0          1.0      3.0       0.0       0.0       0.0   \n",
       "2                 1.0          1.0      5.0      30.0      30.0       1.0   \n",
       "3                 1.0          0.0      2.0       0.0       0.0       0.0   \n",
       "4                 1.0          0.0      2.0       3.0       0.0       0.0   \n",
       "...               ...          ...      ...       ...       ...       ...   \n",
       "253675            1.0          0.0      3.0       0.0       5.0       0.0   \n",
       "253676            1.0          0.0      4.0       0.0       0.0       1.0   \n",
       "253677            1.0          0.0      1.0       0.0       0.0       0.0   \n",
       "253678            1.0          0.0      3.0       0.0       0.0       0.0   \n",
       "253679            1.0          0.0      2.0       0.0       0.0       0.0   \n",
       "\n",
       "        Sex   Age  Education  Income  \n",
       "0       0.0   9.0        4.0     3.0  \n",
       "1       0.0   7.0        6.0     1.0  \n",
       "2       0.0   9.0        4.0     8.0  \n",
       "3       0.0  11.0        3.0     6.0  \n",
       "4       0.0  11.0        5.0     4.0  \n",
       "...     ...   ...        ...     ...  \n",
       "253675  1.0   5.0        6.0     7.0  \n",
       "253676  0.0  11.0        2.0     4.0  \n",
       "253677  0.0   2.0        5.0     2.0  \n",
       "253678  1.0   7.0        5.0     1.0  \n",
       "253679  0.0   9.0        6.0     2.0  \n",
       "\n",
       "[253680 rows x 22 columns]"
      ]
     },
     "execution_count": 70,
     "metadata": {},
     "output_type": "execute_result"
    }
   ],
   "source": [
    "diabetes"
   ]
  },
  {
   "cell_type": "markdown",
   "id": "b6fc837d",
   "metadata": {},
   "source": [
    "Next column is about Smoker, let's it seems to be binary data, but we need check"
   ]
  },
  {
   "cell_type": "code",
   "execution_count": 71,
   "id": "89c5163f",
   "metadata": {},
   "outputs": [
    {
     "data": {
      "text/plain": [
       "0.0    141257\n",
       "1.0    112423\n",
       "Name: Smoker, dtype: int64"
      ]
     },
     "execution_count": 71,
     "metadata": {},
     "output_type": "execute_result"
    }
   ],
   "source": [
    "diabetes.Smoker.value_counts()#binary, no transform"
   ]
  },
  {
   "cell_type": "markdown",
   "id": "b6d4f072",
   "metadata": {},
   "source": [
    "Yes, Smoker is binary so carry on with next column"
   ]
  },
  {
   "cell_type": "code",
   "execution_count": 72,
   "id": "94c6eaef",
   "metadata": {
    "scrolled": true
   },
   "outputs": [
    {
     "data": {
      "text/plain": [
       "0.0    141257\n",
       "1.0    112423\n",
       "Name: Smoker, dtype: int64"
      ]
     },
     "execution_count": 72,
     "metadata": {},
     "output_type": "execute_result"
    }
   ],
   "source": [
    "diabetes.Smoker.value_counts()#binary, no transform"
   ]
  },
  {
   "cell_type": "markdown",
   "id": "bb0bc178",
   "metadata": {},
   "source": [
    "And next..."
   ]
  },
  {
   "cell_type": "code",
   "execution_count": 73,
   "id": "448df5bf",
   "metadata": {},
   "outputs": [
    {
     "data": {
      "text/plain": [
       "0.0    229787\n",
       "1.0     23893\n",
       "Name: HeartDiseaseorAttack, dtype: int64"
      ]
     },
     "execution_count": 73,
     "metadata": {},
     "output_type": "execute_result"
    }
   ],
   "source": [
    "diabetes.HeartDiseaseorAttack.value_counts()#binary, no transform"
   ]
  },
  {
   "cell_type": "markdown",
   "id": "ef34a2af",
   "metadata": {},
   "source": [
    ":) carry on"
   ]
  },
  {
   "cell_type": "code",
   "execution_count": 74,
   "id": "442546f3",
   "metadata": {},
   "outputs": [
    {
     "data": {
      "text/plain": [
       "1.0    160898\n",
       "0.0     92782\n",
       "Name: Fruits, dtype: int64"
      ]
     },
     "execution_count": 74,
     "metadata": {},
     "output_type": "execute_result"
    }
   ],
   "source": [
    "diabetes.Fruits.value_counts()#binary, no transform"
   ]
  },
  {
   "cell_type": "raw",
   "id": "382d7b8b",
   "metadata": {},
   "source": [
    "Boring... ;)"
   ]
  },
  {
   "cell_type": "code",
   "execution_count": 75,
   "id": "bb73a8d3",
   "metadata": {},
   "outputs": [
    {
     "data": {
      "text/plain": [
       "1.0    205841\n",
       "0.0     47839\n",
       "Name: Veggies, dtype: int64"
      ]
     },
     "execution_count": 75,
     "metadata": {},
     "output_type": "execute_result"
    }
   ],
   "source": [
    "diabetes.Veggies.value_counts()#binary, no transform"
   ]
  },
  {
   "cell_type": "code",
   "execution_count": 76,
   "id": "72a55d9b",
   "metadata": {},
   "outputs": [
    {
     "data": {
      "text/plain": [
       "0.0    239424\n",
       "1.0     14256\n",
       "Name: HvyAlcoholConsump, dtype: int64"
      ]
     },
     "execution_count": 76,
     "metadata": {},
     "output_type": "execute_result"
    }
   ],
   "source": [
    "diabetes.HvyAlcoholConsump.value_counts()#binary, no transform"
   ]
  },
  {
   "cell_type": "code",
   "execution_count": 77,
   "id": "a0e4a017",
   "metadata": {},
   "outputs": [
    {
     "data": {
      "text/plain": [
       "1.0    241263\n",
       "0.0     12417\n",
       "Name: AnyHealthcare, dtype: int64"
      ]
     },
     "execution_count": 77,
     "metadata": {},
     "output_type": "execute_result"
    }
   ],
   "source": [
    "diabetes.AnyHealthcare.value_counts()#binary, no transform"
   ]
  },
  {
   "cell_type": "code",
   "execution_count": 78,
   "id": "af5534e3",
   "metadata": {},
   "outputs": [
    {
     "data": {
      "text/plain": [
       "0.0    232326\n",
       "1.0     21354\n",
       "Name: NoDocbcCost, dtype: int64"
      ]
     },
     "execution_count": 78,
     "metadata": {},
     "output_type": "execute_result"
    }
   ],
   "source": [
    "diabetes.NoDocbcCost.value_counts()#binary, no transform"
   ]
  },
  {
   "cell_type": "code",
   "execution_count": 79,
   "id": "768ca61f",
   "metadata": {},
   "outputs": [
    {
     "data": {
      "text/plain": [
       "0.0    232326\n",
       "1.0     21354\n",
       "Name: NoDocbcCost, dtype: int64"
      ]
     },
     "execution_count": 79,
     "metadata": {},
     "output_type": "execute_result"
    }
   ],
   "source": [
    "diabetes.NoDocbcCost.value_counts()#binary, no transform"
   ]
  },
  {
   "cell_type": "code",
   "execution_count": 80,
   "id": "3e4e272f",
   "metadata": {},
   "outputs": [
    {
     "data": {
      "text/plain": [
       "2.0    89084\n",
       "3.0    75646\n",
       "1.0    45299\n",
       "4.0    31570\n",
       "5.0    12081\n",
       "Name: GenHlth, dtype: int64"
      ]
     },
     "execution_count": 80,
     "metadata": {},
     "output_type": "execute_result"
    }
   ],
   "source": [
    "diabetes.GenHlth.value_counts()#categories, no transform"
   ]
  },
  {
   "cell_type": "code",
   "execution_count": 81,
   "id": "6048e6d0",
   "metadata": {},
   "outputs": [
    {
     "data": {
      "text/plain": [
       "0.0     175680\n",
       "2.0      13054\n",
       "30.0     12088\n",
       "5.0       9030\n",
       "1.0       8538\n",
       "3.0       7381\n",
       "10.0      6373\n",
       "15.0      5505\n",
       "4.0       3789\n",
       "20.0      3364\n",
       "7.0       3100\n",
       "25.0      1188\n",
       "14.0      1167\n",
       "6.0        988\n",
       "8.0        639\n",
       "12.0       398\n",
       "28.0       327\n",
       "21.0       227\n",
       "29.0       158\n",
       "18.0        97\n",
       "9.0         91\n",
       "16.0        88\n",
       "27.0        79\n",
       "22.0        63\n",
       "17.0        54\n",
       "26.0        45\n",
       "11.0        41\n",
       "13.0        41\n",
       "23.0        38\n",
       "24.0        33\n",
       "19.0        16\n",
       "Name: MentHlth, dtype: int64"
      ]
     },
     "execution_count": 81,
     "metadata": {},
     "output_type": "execute_result"
    }
   ],
   "source": [
    "diabetes.MentHlth.value_counts()#lots of diffrent values, let's see more"
   ]
  },
  {
   "cell_type": "markdown",
   "id": "ee31e1e2",
   "metadata": {},
   "source": [
    "Following the description of MentHlth column we know, it is count of days people feeled stress, it can be huge impact of any disease (imho).<BR>\n",
    "We need to divide this data, let's see describe column and decide what range apply."
   ]
  },
  {
   "cell_type": "code",
   "execution_count": 82,
   "id": "5dc17062",
   "metadata": {},
   "outputs": [
    {
     "data": {
      "text/plain": [
       "count    253680.000000\n",
       "mean          3.184772\n",
       "std           7.412847\n",
       "min           0.000000\n",
       "25%           0.000000\n",
       "50%           0.000000\n",
       "75%           2.000000\n",
       "max          30.000000\n",
       "Name: MentHlth, dtype: float64"
      ]
     },
     "execution_count": 82,
     "metadata": {},
     "output_type": "execute_result"
    }
   ],
   "source": [
    "diabetes.MentHlth.describe()"
   ]
  },
  {
   "cell_type": "markdown",
   "id": "a086e245",
   "metadata": {},
   "source": [
    "Two of first quartiles so also median values equal zero, nice :)<BR>\n",
    "Let's try to divide of 3 bins"
   ]
  },
  {
   "cell_type": "code",
   "execution_count": 83,
   "id": "fbd34805",
   "metadata": {},
   "outputs": [],
   "source": [
    "bins_mh = [0,7,14,21,31]\n",
    "categories_mh=[\"No_stress\",\"Middle_stress\",\"Stressful\", \"Extreme_stress\"]\n",
    "diabetes.insert(15,\"Stress_level\", pd.cut(diabetes.MentHlth,bins=bins_mh,labels=categories_mh,right=False))\n",
    "diabetes = diabetes.drop([\"MentHlth\"], axis=1)"
   ]
  },
  {
   "cell_type": "markdown",
   "id": "6f75e422",
   "metadata": {},
   "source": [
    "Bins looks this"
   ]
  },
  {
   "cell_type": "code",
   "execution_count": 84,
   "id": "529d12c3",
   "metadata": {},
   "outputs": [
    {
     "data": {
      "text/plain": [
       "No_stress         218460\n",
       "Extreme_stress     14246\n",
       "Middle_stress      10683\n",
       "Stressful          10291\n",
       "Name: Stress_level, dtype: int64"
      ]
     },
     "execution_count": 84,
     "metadata": {},
     "output_type": "execute_result"
    }
   ],
   "source": [
    "diabetes.Stress_level.value_counts()"
   ]
  },
  {
   "cell_type": "markdown",
   "id": "c72c7178",
   "metadata": {},
   "source": [
    "Carry on"
   ]
  },
  {
   "cell_type": "code",
   "execution_count": 85,
   "id": "a30dfc0a",
   "metadata": {},
   "outputs": [
    {
     "data": {
      "text/plain": [
       "0.0    211005\n",
       "1.0     42675\n",
       "Name: DiffWalk, dtype: int64"
      ]
     },
     "execution_count": 85,
     "metadata": {},
     "output_type": "execute_result"
    }
   ],
   "source": [
    "diabetes.DiffWalk.value_counts()#binary, no transform"
   ]
  },
  {
   "cell_type": "code",
   "execution_count": 86,
   "id": "17242634",
   "metadata": {},
   "outputs": [
    {
     "data": {
      "text/plain": [
       "0.0    141974\n",
       "1.0    111706\n",
       "Name: Sex, dtype: int64"
      ]
     },
     "execution_count": 86,
     "metadata": {},
     "output_type": "execute_result"
    }
   ],
   "source": [
    "diabetes.Sex.value_counts()#binary, no transform"
   ]
  },
  {
   "cell_type": "code",
   "execution_count": 87,
   "id": "580aa2a6",
   "metadata": {},
   "outputs": [
    {
     "data": {
      "text/plain": [
       "9.0     33244\n",
       "10.0    32194\n",
       "8.0     30832\n",
       "7.0     26314\n",
       "11.0    23533\n",
       "6.0     19819\n",
       "13.0    17363\n",
       "5.0     16157\n",
       "12.0    15980\n",
       "4.0     13823\n",
       "3.0     11123\n",
       "2.0      7598\n",
       "1.0      5700\n",
       "Name: Age, dtype: int64"
      ]
     },
     "execution_count": 87,
     "metadata": {},
     "output_type": "execute_result"
    }
   ],
   "source": [
    "diabetes.Age.value_counts()"
   ]
  },
  {
   "cell_type": "markdown",
   "id": "c753f634",
   "metadata": {},
   "source": [
    "Following the manual for diabetes data set: 1 is 18-24 all the way up to 13, menas 80 and older. 5 year increments"
   ]
  },
  {
   "cell_type": "code",
   "execution_count": 88,
   "id": "be7bd690",
   "metadata": {},
   "outputs": [
    {
     "data": {
      "text/plain": [
       "6.0    107325\n",
       "5.0     69910\n",
       "4.0     62750\n",
       "3.0      9478\n",
       "2.0      4043\n",
       "1.0       174\n",
       "Name: Education, dtype: int64"
      ]
     },
     "execution_count": 88,
     "metadata": {},
     "output_type": "execute_result"
    }
   ],
   "source": [
    "diabetes.Education.value_counts()#categories, no transform"
   ]
  },
  {
   "cell_type": "code",
   "execution_count": 89,
   "id": "3e03c2b6",
   "metadata": {},
   "outputs": [
    {
     "data": {
      "text/plain": [
       "8.0    90385\n",
       "7.0    43219\n",
       "6.0    36470\n",
       "5.0    25883\n",
       "4.0    20135\n",
       "3.0    15994\n",
       "2.0    11783\n",
       "1.0     9811\n",
       "Name: Income, dtype: int64"
      ]
     },
     "execution_count": 89,
     "metadata": {},
     "output_type": "execute_result"
    }
   ],
   "source": [
    "diabetes.Income.value_counts()# 1 being less than $10,000 all the way up to 8 being $75,000 or more"
   ]
  },
  {
   "cell_type": "code",
   "execution_count": 90,
   "id": "79b9ff37",
   "metadata": {},
   "outputs": [
    {
     "data": {
      "text/html": [
       "<div>\n",
       "<style scoped>\n",
       "    .dataframe tbody tr th:only-of-type {\n",
       "        vertical-align: middle;\n",
       "    }\n",
       "\n",
       "    .dataframe tbody tr th {\n",
       "        vertical-align: top;\n",
       "    }\n",
       "\n",
       "    .dataframe thead th {\n",
       "        text-align: right;\n",
       "    }\n",
       "</style>\n",
       "<table border=\"1\" class=\"dataframe\">\n",
       "  <thead>\n",
       "    <tr style=\"text-align: right;\">\n",
       "      <th></th>\n",
       "      <th>Diabetes_binary</th>\n",
       "      <th>HighBP</th>\n",
       "      <th>HighChol</th>\n",
       "      <th>CholCheck</th>\n",
       "      <th>BMI_Range</th>\n",
       "      <th>Smoker</th>\n",
       "      <th>Stroke</th>\n",
       "      <th>HeartDiseaseorAttack</th>\n",
       "      <th>PhysActivity</th>\n",
       "      <th>Fruits</th>\n",
       "      <th>...</th>\n",
       "      <th>AnyHealthcare</th>\n",
       "      <th>NoDocbcCost</th>\n",
       "      <th>GenHlth</th>\n",
       "      <th>Stress_level</th>\n",
       "      <th>PhysHlth</th>\n",
       "      <th>DiffWalk</th>\n",
       "      <th>Sex</th>\n",
       "      <th>Age</th>\n",
       "      <th>Education</th>\n",
       "      <th>Income</th>\n",
       "    </tr>\n",
       "  </thead>\n",
       "  <tbody>\n",
       "    <tr>\n",
       "      <th>0</th>\n",
       "      <td>0.0</td>\n",
       "      <td>1.0</td>\n",
       "      <td>1.0</td>\n",
       "      <td>1.0</td>\n",
       "      <td>Huge_obesity</td>\n",
       "      <td>1.0</td>\n",
       "      <td>0.0</td>\n",
       "      <td>0.0</td>\n",
       "      <td>0.0</td>\n",
       "      <td>0.0</td>\n",
       "      <td>...</td>\n",
       "      <td>1.0</td>\n",
       "      <td>0.0</td>\n",
       "      <td>5.0</td>\n",
       "      <td>Stressful</td>\n",
       "      <td>15.0</td>\n",
       "      <td>1.0</td>\n",
       "      <td>0.0</td>\n",
       "      <td>9.0</td>\n",
       "      <td>4.0</td>\n",
       "      <td>3.0</td>\n",
       "    </tr>\n",
       "    <tr>\n",
       "      <th>1</th>\n",
       "      <td>0.0</td>\n",
       "      <td>0.0</td>\n",
       "      <td>0.0</td>\n",
       "      <td>0.0</td>\n",
       "      <td>Over_weight</td>\n",
       "      <td>1.0</td>\n",
       "      <td>0.0</td>\n",
       "      <td>0.0</td>\n",
       "      <td>1.0</td>\n",
       "      <td>0.0</td>\n",
       "      <td>...</td>\n",
       "      <td>0.0</td>\n",
       "      <td>1.0</td>\n",
       "      <td>3.0</td>\n",
       "      <td>No_stress</td>\n",
       "      <td>0.0</td>\n",
       "      <td>0.0</td>\n",
       "      <td>0.0</td>\n",
       "      <td>7.0</td>\n",
       "      <td>6.0</td>\n",
       "      <td>1.0</td>\n",
       "    </tr>\n",
       "    <tr>\n",
       "      <th>2</th>\n",
       "      <td>0.0</td>\n",
       "      <td>1.0</td>\n",
       "      <td>1.0</td>\n",
       "      <td>1.0</td>\n",
       "      <td>Over_weight</td>\n",
       "      <td>0.0</td>\n",
       "      <td>0.0</td>\n",
       "      <td>0.0</td>\n",
       "      <td>0.0</td>\n",
       "      <td>1.0</td>\n",
       "      <td>...</td>\n",
       "      <td>1.0</td>\n",
       "      <td>1.0</td>\n",
       "      <td>5.0</td>\n",
       "      <td>Extreme_stress</td>\n",
       "      <td>30.0</td>\n",
       "      <td>1.0</td>\n",
       "      <td>0.0</td>\n",
       "      <td>9.0</td>\n",
       "      <td>4.0</td>\n",
       "      <td>8.0</td>\n",
       "    </tr>\n",
       "    <tr>\n",
       "      <th>3</th>\n",
       "      <td>0.0</td>\n",
       "      <td>1.0</td>\n",
       "      <td>0.0</td>\n",
       "      <td>1.0</td>\n",
       "      <td>Over_weight</td>\n",
       "      <td>0.0</td>\n",
       "      <td>0.0</td>\n",
       "      <td>0.0</td>\n",
       "      <td>1.0</td>\n",
       "      <td>1.0</td>\n",
       "      <td>...</td>\n",
       "      <td>1.0</td>\n",
       "      <td>0.0</td>\n",
       "      <td>2.0</td>\n",
       "      <td>No_stress</td>\n",
       "      <td>0.0</td>\n",
       "      <td>0.0</td>\n",
       "      <td>0.0</td>\n",
       "      <td>11.0</td>\n",
       "      <td>3.0</td>\n",
       "      <td>6.0</td>\n",
       "    </tr>\n",
       "    <tr>\n",
       "      <th>4</th>\n",
       "      <td>0.0</td>\n",
       "      <td>1.0</td>\n",
       "      <td>1.0</td>\n",
       "      <td>1.0</td>\n",
       "      <td>Over_weight</td>\n",
       "      <td>0.0</td>\n",
       "      <td>0.0</td>\n",
       "      <td>0.0</td>\n",
       "      <td>1.0</td>\n",
       "      <td>1.0</td>\n",
       "      <td>...</td>\n",
       "      <td>1.0</td>\n",
       "      <td>0.0</td>\n",
       "      <td>2.0</td>\n",
       "      <td>No_stress</td>\n",
       "      <td>0.0</td>\n",
       "      <td>0.0</td>\n",
       "      <td>0.0</td>\n",
       "      <td>11.0</td>\n",
       "      <td>5.0</td>\n",
       "      <td>4.0</td>\n",
       "    </tr>\n",
       "    <tr>\n",
       "      <th>...</th>\n",
       "      <td>...</td>\n",
       "      <td>...</td>\n",
       "      <td>...</td>\n",
       "      <td>...</td>\n",
       "      <td>...</td>\n",
       "      <td>...</td>\n",
       "      <td>...</td>\n",
       "      <td>...</td>\n",
       "      <td>...</td>\n",
       "      <td>...</td>\n",
       "      <td>...</td>\n",
       "      <td>...</td>\n",
       "      <td>...</td>\n",
       "      <td>...</td>\n",
       "      <td>...</td>\n",
       "      <td>...</td>\n",
       "      <td>...</td>\n",
       "      <td>...</td>\n",
       "      <td>...</td>\n",
       "      <td>...</td>\n",
       "      <td>...</td>\n",
       "    </tr>\n",
       "    <tr>\n",
       "      <th>253675</th>\n",
       "      <td>0.0</td>\n",
       "      <td>1.0</td>\n",
       "      <td>1.0</td>\n",
       "      <td>1.0</td>\n",
       "      <td>Huge_obesity</td>\n",
       "      <td>0.0</td>\n",
       "      <td>0.0</td>\n",
       "      <td>0.0</td>\n",
       "      <td>0.0</td>\n",
       "      <td>1.0</td>\n",
       "      <td>...</td>\n",
       "      <td>1.0</td>\n",
       "      <td>0.0</td>\n",
       "      <td>3.0</td>\n",
       "      <td>No_stress</td>\n",
       "      <td>5.0</td>\n",
       "      <td>0.0</td>\n",
       "      <td>1.0</td>\n",
       "      <td>5.0</td>\n",
       "      <td>6.0</td>\n",
       "      <td>7.0</td>\n",
       "    </tr>\n",
       "    <tr>\n",
       "      <th>253676</th>\n",
       "      <td>1.0</td>\n",
       "      <td>1.0</td>\n",
       "      <td>1.0</td>\n",
       "      <td>1.0</td>\n",
       "      <td>Normal</td>\n",
       "      <td>0.0</td>\n",
       "      <td>0.0</td>\n",
       "      <td>0.0</td>\n",
       "      <td>0.0</td>\n",
       "      <td>0.0</td>\n",
       "      <td>...</td>\n",
       "      <td>1.0</td>\n",
       "      <td>0.0</td>\n",
       "      <td>4.0</td>\n",
       "      <td>No_stress</td>\n",
       "      <td>0.0</td>\n",
       "      <td>1.0</td>\n",
       "      <td>0.0</td>\n",
       "      <td>11.0</td>\n",
       "      <td>2.0</td>\n",
       "      <td>4.0</td>\n",
       "    </tr>\n",
       "    <tr>\n",
       "      <th>253677</th>\n",
       "      <td>0.0</td>\n",
       "      <td>0.0</td>\n",
       "      <td>0.0</td>\n",
       "      <td>1.0</td>\n",
       "      <td>Over_weight</td>\n",
       "      <td>0.0</td>\n",
       "      <td>0.0</td>\n",
       "      <td>0.0</td>\n",
       "      <td>1.0</td>\n",
       "      <td>1.0</td>\n",
       "      <td>...</td>\n",
       "      <td>1.0</td>\n",
       "      <td>0.0</td>\n",
       "      <td>1.0</td>\n",
       "      <td>No_stress</td>\n",
       "      <td>0.0</td>\n",
       "      <td>0.0</td>\n",
       "      <td>0.0</td>\n",
       "      <td>2.0</td>\n",
       "      <td>5.0</td>\n",
       "      <td>2.0</td>\n",
       "    </tr>\n",
       "    <tr>\n",
       "      <th>253678</th>\n",
       "      <td>0.0</td>\n",
       "      <td>1.0</td>\n",
       "      <td>0.0</td>\n",
       "      <td>1.0</td>\n",
       "      <td>Over_weight</td>\n",
       "      <td>0.0</td>\n",
       "      <td>0.0</td>\n",
       "      <td>0.0</td>\n",
       "      <td>0.0</td>\n",
       "      <td>1.0</td>\n",
       "      <td>...</td>\n",
       "      <td>1.0</td>\n",
       "      <td>0.0</td>\n",
       "      <td>3.0</td>\n",
       "      <td>No_stress</td>\n",
       "      <td>0.0</td>\n",
       "      <td>0.0</td>\n",
       "      <td>1.0</td>\n",
       "      <td>7.0</td>\n",
       "      <td>5.0</td>\n",
       "      <td>1.0</td>\n",
       "    </tr>\n",
       "    <tr>\n",
       "      <th>253679</th>\n",
       "      <td>1.0</td>\n",
       "      <td>1.0</td>\n",
       "      <td>1.0</td>\n",
       "      <td>1.0</td>\n",
       "      <td>Over_weight</td>\n",
       "      <td>0.0</td>\n",
       "      <td>0.0</td>\n",
       "      <td>1.0</td>\n",
       "      <td>1.0</td>\n",
       "      <td>1.0</td>\n",
       "      <td>...</td>\n",
       "      <td>1.0</td>\n",
       "      <td>0.0</td>\n",
       "      <td>2.0</td>\n",
       "      <td>No_stress</td>\n",
       "      <td>0.0</td>\n",
       "      <td>0.0</td>\n",
       "      <td>0.0</td>\n",
       "      <td>9.0</td>\n",
       "      <td>6.0</td>\n",
       "      <td>2.0</td>\n",
       "    </tr>\n",
       "  </tbody>\n",
       "</table>\n",
       "<p>253680 rows × 22 columns</p>\n",
       "</div>"
      ],
      "text/plain": [
       "        Diabetes_binary  HighBP  HighChol  CholCheck     BMI_Range  Smoker  \\\n",
       "0                   0.0     1.0       1.0        1.0  Huge_obesity     1.0   \n",
       "1                   0.0     0.0       0.0        0.0   Over_weight     1.0   \n",
       "2                   0.0     1.0       1.0        1.0   Over_weight     0.0   \n",
       "3                   0.0     1.0       0.0        1.0   Over_weight     0.0   \n",
       "4                   0.0     1.0       1.0        1.0   Over_weight     0.0   \n",
       "...                 ...     ...       ...        ...           ...     ...   \n",
       "253675              0.0     1.0       1.0        1.0  Huge_obesity     0.0   \n",
       "253676              1.0     1.0       1.0        1.0        Normal     0.0   \n",
       "253677              0.0     0.0       0.0        1.0   Over_weight     0.0   \n",
       "253678              0.0     1.0       0.0        1.0   Over_weight     0.0   \n",
       "253679              1.0     1.0       1.0        1.0   Over_weight     0.0   \n",
       "\n",
       "        Stroke  HeartDiseaseorAttack  PhysActivity  Fruits  ...  \\\n",
       "0          0.0                   0.0           0.0     0.0  ...   \n",
       "1          0.0                   0.0           1.0     0.0  ...   \n",
       "2          0.0                   0.0           0.0     1.0  ...   \n",
       "3          0.0                   0.0           1.0     1.0  ...   \n",
       "4          0.0                   0.0           1.0     1.0  ...   \n",
       "...        ...                   ...           ...     ...  ...   \n",
       "253675     0.0                   0.0           0.0     1.0  ...   \n",
       "253676     0.0                   0.0           0.0     0.0  ...   \n",
       "253677     0.0                   0.0           1.0     1.0  ...   \n",
       "253678     0.0                   0.0           0.0     1.0  ...   \n",
       "253679     0.0                   1.0           1.0     1.0  ...   \n",
       "\n",
       "        AnyHealthcare  NoDocbcCost  GenHlth    Stress_level  PhysHlth  \\\n",
       "0                 1.0          0.0      5.0       Stressful      15.0   \n",
       "1                 0.0          1.0      3.0       No_stress       0.0   \n",
       "2                 1.0          1.0      5.0  Extreme_stress      30.0   \n",
       "3                 1.0          0.0      2.0       No_stress       0.0   \n",
       "4                 1.0          0.0      2.0       No_stress       0.0   \n",
       "...               ...          ...      ...             ...       ...   \n",
       "253675            1.0          0.0      3.0       No_stress       5.0   \n",
       "253676            1.0          0.0      4.0       No_stress       0.0   \n",
       "253677            1.0          0.0      1.0       No_stress       0.0   \n",
       "253678            1.0          0.0      3.0       No_stress       0.0   \n",
       "253679            1.0          0.0      2.0       No_stress       0.0   \n",
       "\n",
       "       DiffWalk  Sex   Age  Education  Income  \n",
       "0           1.0  0.0   9.0        4.0     3.0  \n",
       "1           0.0  0.0   7.0        6.0     1.0  \n",
       "2           1.0  0.0   9.0        4.0     8.0  \n",
       "3           0.0  0.0  11.0        3.0     6.0  \n",
       "4           0.0  0.0  11.0        5.0     4.0  \n",
       "...         ...  ...   ...        ...     ...  \n",
       "253675      0.0  1.0   5.0        6.0     7.0  \n",
       "253676      1.0  0.0  11.0        2.0     4.0  \n",
       "253677      0.0  0.0   2.0        5.0     2.0  \n",
       "253678      0.0  1.0   7.0        5.0     1.0  \n",
       "253679      0.0  0.0   9.0        6.0     2.0  \n",
       "\n",
       "[253680 rows x 22 columns]"
      ]
     },
     "execution_count": 90,
     "metadata": {},
     "output_type": "execute_result"
    }
   ],
   "source": [
    "diabetes"
   ]
  },
  {
   "cell_type": "code",
   "execution_count": 91,
   "id": "0318f698",
   "metadata": {},
   "outputs": [
    {
     "data": {
      "text/html": [
       "<div>\n",
       "<style scoped>\n",
       "    .dataframe tbody tr th:only-of-type {\n",
       "        vertical-align: middle;\n",
       "    }\n",
       "\n",
       "    .dataframe tbody tr th {\n",
       "        vertical-align: top;\n",
       "    }\n",
       "\n",
       "    .dataframe thead th {\n",
       "        text-align: right;\n",
       "    }\n",
       "</style>\n",
       "<table border=\"1\" class=\"dataframe\">\n",
       "  <thead>\n",
       "    <tr style=\"text-align: right;\">\n",
       "      <th></th>\n",
       "      <th>Diabetes_binary</th>\n",
       "      <th>HighBP</th>\n",
       "      <th>HighChol</th>\n",
       "      <th>CholCheck</th>\n",
       "      <th>Smoker</th>\n",
       "      <th>Stroke</th>\n",
       "      <th>HeartDiseaseorAttack</th>\n",
       "      <th>PhysActivity</th>\n",
       "      <th>Fruits</th>\n",
       "      <th>Veggies</th>\n",
       "      <th>...</th>\n",
       "      <th>Income</th>\n",
       "      <th>BMI_Range_Normal</th>\n",
       "      <th>BMI_Range_Over_weight</th>\n",
       "      <th>BMI_Range_Obesity</th>\n",
       "      <th>BMI_Range_Huge_obesity</th>\n",
       "      <th>BMI_Range_Max_obesity</th>\n",
       "      <th>Stress_level_No_stress</th>\n",
       "      <th>Stress_level_Middle_stress</th>\n",
       "      <th>Stress_level_Stressful</th>\n",
       "      <th>Stress_level_Extreme_stress</th>\n",
       "    </tr>\n",
       "  </thead>\n",
       "  <tbody>\n",
       "    <tr>\n",
       "      <th>0</th>\n",
       "      <td>0.0</td>\n",
       "      <td>1.0</td>\n",
       "      <td>1.0</td>\n",
       "      <td>1.0</td>\n",
       "      <td>1.0</td>\n",
       "      <td>0.0</td>\n",
       "      <td>0.0</td>\n",
       "      <td>0.0</td>\n",
       "      <td>0.0</td>\n",
       "      <td>1.0</td>\n",
       "      <td>...</td>\n",
       "      <td>3.0</td>\n",
       "      <td>0</td>\n",
       "      <td>0</td>\n",
       "      <td>0</td>\n",
       "      <td>1</td>\n",
       "      <td>0</td>\n",
       "      <td>0</td>\n",
       "      <td>0</td>\n",
       "      <td>1</td>\n",
       "      <td>0</td>\n",
       "    </tr>\n",
       "    <tr>\n",
       "      <th>1</th>\n",
       "      <td>0.0</td>\n",
       "      <td>0.0</td>\n",
       "      <td>0.0</td>\n",
       "      <td>0.0</td>\n",
       "      <td>1.0</td>\n",
       "      <td>0.0</td>\n",
       "      <td>0.0</td>\n",
       "      <td>1.0</td>\n",
       "      <td>0.0</td>\n",
       "      <td>0.0</td>\n",
       "      <td>...</td>\n",
       "      <td>1.0</td>\n",
       "      <td>0</td>\n",
       "      <td>1</td>\n",
       "      <td>0</td>\n",
       "      <td>0</td>\n",
       "      <td>0</td>\n",
       "      <td>1</td>\n",
       "      <td>0</td>\n",
       "      <td>0</td>\n",
       "      <td>0</td>\n",
       "    </tr>\n",
       "    <tr>\n",
       "      <th>2</th>\n",
       "      <td>0.0</td>\n",
       "      <td>1.0</td>\n",
       "      <td>1.0</td>\n",
       "      <td>1.0</td>\n",
       "      <td>0.0</td>\n",
       "      <td>0.0</td>\n",
       "      <td>0.0</td>\n",
       "      <td>0.0</td>\n",
       "      <td>1.0</td>\n",
       "      <td>0.0</td>\n",
       "      <td>...</td>\n",
       "      <td>8.0</td>\n",
       "      <td>0</td>\n",
       "      <td>1</td>\n",
       "      <td>0</td>\n",
       "      <td>0</td>\n",
       "      <td>0</td>\n",
       "      <td>0</td>\n",
       "      <td>0</td>\n",
       "      <td>0</td>\n",
       "      <td>1</td>\n",
       "    </tr>\n",
       "    <tr>\n",
       "      <th>3</th>\n",
       "      <td>0.0</td>\n",
       "      <td>1.0</td>\n",
       "      <td>0.0</td>\n",
       "      <td>1.0</td>\n",
       "      <td>0.0</td>\n",
       "      <td>0.0</td>\n",
       "      <td>0.0</td>\n",
       "      <td>1.0</td>\n",
       "      <td>1.0</td>\n",
       "      <td>1.0</td>\n",
       "      <td>...</td>\n",
       "      <td>6.0</td>\n",
       "      <td>0</td>\n",
       "      <td>1</td>\n",
       "      <td>0</td>\n",
       "      <td>0</td>\n",
       "      <td>0</td>\n",
       "      <td>1</td>\n",
       "      <td>0</td>\n",
       "      <td>0</td>\n",
       "      <td>0</td>\n",
       "    </tr>\n",
       "    <tr>\n",
       "      <th>4</th>\n",
       "      <td>0.0</td>\n",
       "      <td>1.0</td>\n",
       "      <td>1.0</td>\n",
       "      <td>1.0</td>\n",
       "      <td>0.0</td>\n",
       "      <td>0.0</td>\n",
       "      <td>0.0</td>\n",
       "      <td>1.0</td>\n",
       "      <td>1.0</td>\n",
       "      <td>1.0</td>\n",
       "      <td>...</td>\n",
       "      <td>4.0</td>\n",
       "      <td>0</td>\n",
       "      <td>1</td>\n",
       "      <td>0</td>\n",
       "      <td>0</td>\n",
       "      <td>0</td>\n",
       "      <td>1</td>\n",
       "      <td>0</td>\n",
       "      <td>0</td>\n",
       "      <td>0</td>\n",
       "    </tr>\n",
       "    <tr>\n",
       "      <th>...</th>\n",
       "      <td>...</td>\n",
       "      <td>...</td>\n",
       "      <td>...</td>\n",
       "      <td>...</td>\n",
       "      <td>...</td>\n",
       "      <td>...</td>\n",
       "      <td>...</td>\n",
       "      <td>...</td>\n",
       "      <td>...</td>\n",
       "      <td>...</td>\n",
       "      <td>...</td>\n",
       "      <td>...</td>\n",
       "      <td>...</td>\n",
       "      <td>...</td>\n",
       "      <td>...</td>\n",
       "      <td>...</td>\n",
       "      <td>...</td>\n",
       "      <td>...</td>\n",
       "      <td>...</td>\n",
       "      <td>...</td>\n",
       "      <td>...</td>\n",
       "    </tr>\n",
       "    <tr>\n",
       "      <th>253675</th>\n",
       "      <td>0.0</td>\n",
       "      <td>1.0</td>\n",
       "      <td>1.0</td>\n",
       "      <td>1.0</td>\n",
       "      <td>0.0</td>\n",
       "      <td>0.0</td>\n",
       "      <td>0.0</td>\n",
       "      <td>0.0</td>\n",
       "      <td>1.0</td>\n",
       "      <td>1.0</td>\n",
       "      <td>...</td>\n",
       "      <td>7.0</td>\n",
       "      <td>0</td>\n",
       "      <td>0</td>\n",
       "      <td>0</td>\n",
       "      <td>1</td>\n",
       "      <td>0</td>\n",
       "      <td>1</td>\n",
       "      <td>0</td>\n",
       "      <td>0</td>\n",
       "      <td>0</td>\n",
       "    </tr>\n",
       "    <tr>\n",
       "      <th>253676</th>\n",
       "      <td>1.0</td>\n",
       "      <td>1.0</td>\n",
       "      <td>1.0</td>\n",
       "      <td>1.0</td>\n",
       "      <td>0.0</td>\n",
       "      <td>0.0</td>\n",
       "      <td>0.0</td>\n",
       "      <td>0.0</td>\n",
       "      <td>0.0</td>\n",
       "      <td>0.0</td>\n",
       "      <td>...</td>\n",
       "      <td>4.0</td>\n",
       "      <td>1</td>\n",
       "      <td>0</td>\n",
       "      <td>0</td>\n",
       "      <td>0</td>\n",
       "      <td>0</td>\n",
       "      <td>1</td>\n",
       "      <td>0</td>\n",
       "      <td>0</td>\n",
       "      <td>0</td>\n",
       "    </tr>\n",
       "    <tr>\n",
       "      <th>253677</th>\n",
       "      <td>0.0</td>\n",
       "      <td>0.0</td>\n",
       "      <td>0.0</td>\n",
       "      <td>1.0</td>\n",
       "      <td>0.0</td>\n",
       "      <td>0.0</td>\n",
       "      <td>0.0</td>\n",
       "      <td>1.0</td>\n",
       "      <td>1.0</td>\n",
       "      <td>0.0</td>\n",
       "      <td>...</td>\n",
       "      <td>2.0</td>\n",
       "      <td>0</td>\n",
       "      <td>1</td>\n",
       "      <td>0</td>\n",
       "      <td>0</td>\n",
       "      <td>0</td>\n",
       "      <td>1</td>\n",
       "      <td>0</td>\n",
       "      <td>0</td>\n",
       "      <td>0</td>\n",
       "    </tr>\n",
       "    <tr>\n",
       "      <th>253678</th>\n",
       "      <td>0.0</td>\n",
       "      <td>1.0</td>\n",
       "      <td>0.0</td>\n",
       "      <td>1.0</td>\n",
       "      <td>0.0</td>\n",
       "      <td>0.0</td>\n",
       "      <td>0.0</td>\n",
       "      <td>0.0</td>\n",
       "      <td>1.0</td>\n",
       "      <td>1.0</td>\n",
       "      <td>...</td>\n",
       "      <td>1.0</td>\n",
       "      <td>0</td>\n",
       "      <td>1</td>\n",
       "      <td>0</td>\n",
       "      <td>0</td>\n",
       "      <td>0</td>\n",
       "      <td>1</td>\n",
       "      <td>0</td>\n",
       "      <td>0</td>\n",
       "      <td>0</td>\n",
       "    </tr>\n",
       "    <tr>\n",
       "      <th>253679</th>\n",
       "      <td>1.0</td>\n",
       "      <td>1.0</td>\n",
       "      <td>1.0</td>\n",
       "      <td>1.0</td>\n",
       "      <td>0.0</td>\n",
       "      <td>0.0</td>\n",
       "      <td>1.0</td>\n",
       "      <td>1.0</td>\n",
       "      <td>1.0</td>\n",
       "      <td>0.0</td>\n",
       "      <td>...</td>\n",
       "      <td>2.0</td>\n",
       "      <td>0</td>\n",
       "      <td>1</td>\n",
       "      <td>0</td>\n",
       "      <td>0</td>\n",
       "      <td>0</td>\n",
       "      <td>1</td>\n",
       "      <td>0</td>\n",
       "      <td>0</td>\n",
       "      <td>0</td>\n",
       "    </tr>\n",
       "  </tbody>\n",
       "</table>\n",
       "<p>253680 rows × 29 columns</p>\n",
       "</div>"
      ],
      "text/plain": [
       "        Diabetes_binary  HighBP  HighChol  CholCheck  Smoker  Stroke  \\\n",
       "0                   0.0     1.0       1.0        1.0     1.0     0.0   \n",
       "1                   0.0     0.0       0.0        0.0     1.0     0.0   \n",
       "2                   0.0     1.0       1.0        1.0     0.0     0.0   \n",
       "3                   0.0     1.0       0.0        1.0     0.0     0.0   \n",
       "4                   0.0     1.0       1.0        1.0     0.0     0.0   \n",
       "...                 ...     ...       ...        ...     ...     ...   \n",
       "253675              0.0     1.0       1.0        1.0     0.0     0.0   \n",
       "253676              1.0     1.0       1.0        1.0     0.0     0.0   \n",
       "253677              0.0     0.0       0.0        1.0     0.0     0.0   \n",
       "253678              0.0     1.0       0.0        1.0     0.0     0.0   \n",
       "253679              1.0     1.0       1.0        1.0     0.0     0.0   \n",
       "\n",
       "        HeartDiseaseorAttack  PhysActivity  Fruits  Veggies  ...  Income  \\\n",
       "0                        0.0           0.0     0.0      1.0  ...     3.0   \n",
       "1                        0.0           1.0     0.0      0.0  ...     1.0   \n",
       "2                        0.0           0.0     1.0      0.0  ...     8.0   \n",
       "3                        0.0           1.0     1.0      1.0  ...     6.0   \n",
       "4                        0.0           1.0     1.0      1.0  ...     4.0   \n",
       "...                      ...           ...     ...      ...  ...     ...   \n",
       "253675                   0.0           0.0     1.0      1.0  ...     7.0   \n",
       "253676                   0.0           0.0     0.0      0.0  ...     4.0   \n",
       "253677                   0.0           1.0     1.0      0.0  ...     2.0   \n",
       "253678                   0.0           0.0     1.0      1.0  ...     1.0   \n",
       "253679                   1.0           1.0     1.0      0.0  ...     2.0   \n",
       "\n",
       "        BMI_Range_Normal  BMI_Range_Over_weight  BMI_Range_Obesity  \\\n",
       "0                      0                      0                  0   \n",
       "1                      0                      1                  0   \n",
       "2                      0                      1                  0   \n",
       "3                      0                      1                  0   \n",
       "4                      0                      1                  0   \n",
       "...                  ...                    ...                ...   \n",
       "253675                 0                      0                  0   \n",
       "253676                 1                      0                  0   \n",
       "253677                 0                      1                  0   \n",
       "253678                 0                      1                  0   \n",
       "253679                 0                      1                  0   \n",
       "\n",
       "        BMI_Range_Huge_obesity  BMI_Range_Max_obesity  Stress_level_No_stress  \\\n",
       "0                            1                      0                       0   \n",
       "1                            0                      0                       1   \n",
       "2                            0                      0                       0   \n",
       "3                            0                      0                       1   \n",
       "4                            0                      0                       1   \n",
       "...                        ...                    ...                     ...   \n",
       "253675                       1                      0                       1   \n",
       "253676                       0                      0                       1   \n",
       "253677                       0                      0                       1   \n",
       "253678                       0                      0                       1   \n",
       "253679                       0                      0                       1   \n",
       "\n",
       "        Stress_level_Middle_stress  Stress_level_Stressful  \\\n",
       "0                                0                       1   \n",
       "1                                0                       0   \n",
       "2                                0                       0   \n",
       "3                                0                       0   \n",
       "4                                0                       0   \n",
       "...                            ...                     ...   \n",
       "253675                           0                       0   \n",
       "253676                           0                       0   \n",
       "253677                           0                       0   \n",
       "253678                           0                       0   \n",
       "253679                           0                       0   \n",
       "\n",
       "        Stress_level_Extreme_stress  \n",
       "0                                 0  \n",
       "1                                 0  \n",
       "2                                 1  \n",
       "3                                 0  \n",
       "4                                 0  \n",
       "...                             ...  \n",
       "253675                            0  \n",
       "253676                            0  \n",
       "253677                            0  \n",
       "253678                            0  \n",
       "253679                            0  \n",
       "\n",
       "[253680 rows x 29 columns]"
      ]
     },
     "execution_count": 91,
     "metadata": {},
     "output_type": "execute_result"
    }
   ],
   "source": [
    "pd.get_dummies(diabetes, )"
   ]
  },
  {
   "cell_type": "code",
   "execution_count": 92,
   "id": "166f6027",
   "metadata": {},
   "outputs": [
    {
     "data": {
      "text/plain": [
       "0.0    218334\n",
       "1.0     35346\n",
       "Name: Diabetes_binary, dtype: int64"
      ]
     },
     "execution_count": 92,
     "metadata": {},
     "output_type": "execute_result"
    }
   ],
   "source": [
    " data.Diabetes_binary.value_counts()"
   ]
  },
  {
   "cell_type": "markdown",
   "id": "df1dc1f2",
   "metadata": {},
   "source": [
    "The data is high imbalanced, we can use SMOTE alghoritm to create artifitial data<BR>\n",
    "This technique creates new instances of minority group data by copying existing data and making minor changes to it.<BR>\n",
    "But firstly we have to divide the data on training and testing section "
   ]
  },
  {
   "cell_type": "code",
   "execution_count": 141,
   "id": "0752dbf2",
   "metadata": {},
   "outputs": [],
   "source": [
    "oh = pd.get_dummies(diabetes, drop_first=True)#OneHotcoding, drop first to avoid linear relationship(less important to Random Forest, but importand using Logistic Regression )"
   ]
  },
  {
   "cell_type": "code",
   "execution_count": 94,
   "id": "21bb8952",
   "metadata": {},
   "outputs": [],
   "source": [
    "X = oh.drop(\"Diabetes_binary\", axis=1)#coeficient\n",
    "y = oh.Diabetes_binary#target"
   ]
  },
  {
   "cell_type": "code",
   "execution_count": 114,
   "id": "9f4d0d02",
   "metadata": {},
   "outputs": [],
   "source": [
    "X_train, X_test, y_train, y_test = train_test_split(X,y, test_size=0.25,\n",
    "random_state=5)"
   ]
  },
  {
   "cell_type": "code",
   "execution_count": 115,
   "id": "6e0f8ea8",
   "metadata": {},
   "outputs": [],
   "source": [
    "oversample = SMOTE(sampling_strategy='auto', k_neighbors=6, random_state=42)"
   ]
  },
  {
   "cell_type": "code",
   "execution_count": 116,
   "id": "261a8719",
   "metadata": {},
   "outputs": [],
   "source": [
    "X_train, y_train = oversample.fit_resample(X_train, y_train)"
   ]
  },
  {
   "cell_type": "code",
   "execution_count": 136,
   "id": "549cbd82",
   "metadata": {},
   "outputs": [
    {
     "data": {
      "text/plain": [
       "0.0    163642\n",
       "1.0    163642\n",
       "Name: Diabetes_binary, dtype: int64"
      ]
     },
     "execution_count": 136,
     "metadata": {},
     "output_type": "execute_result"
    }
   ],
   "source": [
    "y_train.value_counts()\n"
   ]
  },
  {
   "cell_type": "markdown",
   "id": "feca773e",
   "metadata": {},
   "source": [
    "Now we have equal data of ones and zeros, lets make pipeline and find the best model.\n",
    "Whereas original data was unbalanced and we  Using F1 score as a metric, we are sure that if the F1 score is high, both precision and recall of the classifier indicate good results."
   ]
  },
  {
   "cell_type": "markdown",
   "id": "d3012ac6",
   "metadata": {},
   "source": [
    "## Comparision Logistic Reggresion vs Decision Trees vs XGBoost"
   ]
  },
  {
   "cell_type": "markdown",
   "id": "0f33e8b0",
   "metadata": {},
   "source": [
    "### Random Forest"
   ]
  },
  {
   "cell_type": "code",
   "execution_count": 134,
   "id": "fc371492",
   "metadata": {},
   "outputs": [
    {
     "data": {
      "text/plain": [
       "GridSearchCV(cv=KFold(n_splits=10, random_state=123, shuffle=True),\n",
       "             estimator=DecisionTreeClassifier(), n_jobs=-1,\n",
       "             param_grid={'max_depth': [10]}, scoring='f1')"
      ]
     },
     "execution_count": 134,
     "metadata": {},
     "output_type": "execute_result"
    }
   ],
   "source": [
    "kfold = KFold(10, shuffle=True, random_state=123)\n",
    "model= DecisionTreeClassifier()\n",
    "\n",
    "params = {\"max_depth\": [10]}\n",
    "\n",
    "optimizer = GridSearchCV(model,\n",
    "                        params,\n",
    "                        scoring=\"f1\",\n",
    "                        cv=kfold,\n",
    "                        n_jobs=-1)\n",
    "optimizer.fit(X_train, y_train) "
   ]
  },
  {
   "cell_type": "code",
   "execution_count": 133,
   "id": "24a8be59",
   "metadata": {},
   "outputs": [
    {
     "data": {
      "text/plain": [
       "0.6333341323705822"
      ]
     },
     "execution_count": 133,
     "metadata": {},
     "output_type": "execute_result"
    }
   ],
   "source": [
    "y_pred = optimizer.predict(X_test)\n",
    "f1_score(y_test, y_pred, average='macro')"
   ]
  },
  {
   "cell_type": "markdown",
   "id": "c61ae06a",
   "metadata": {},
   "source": [
    "### Logistic Regression"
   ]
  },
  {
   "cell_type": "code",
   "execution_count": 109,
   "id": "0efb16fd",
   "metadata": {},
   "outputs": [
    {
     "data": {
      "text/plain": [
       "GridSearchCV(cv=KFold(n_splits=5, random_state=123, shuffle=True),\n",
       "             estimator=Pipeline(steps=[('scaler', StandardScaler()),\n",
       "                                       ('model', LogisticRegression())]),\n",
       "             n_jobs=-1, param_grid=[{'model__C': [0.01, 0.1, 1]}],\n",
       "             scoring='f1')"
      ]
     },
     "execution_count": 109,
     "metadata": {},
     "output_type": "execute_result"
    }
   ],
   "source": [
    " #standaryzacja\n",
    "kfold = KFold(5, shuffle=True, random_state=123)\n",
    "pipeline = Pipeline([\n",
    "    (\"scaler\", StandardScaler()),\n",
    "    (\"model\", LogisticRegression())\n",
    "])\n",
    "params = [{\"model__C\": [0.01,0.1, 1]},\n",
    "          ]\n",
    "\n",
    "optimizer = GridSearchCV(pipeline,\n",
    "                        params,\n",
    "                        scoring=\"f1\",\n",
    "                        cv=kfold,\n",
    "                        n_jobs=-1)\n",
    "optimizer.fit(X_train, y_train)\n"
   ]
  },
  {
   "cell_type": "code",
   "execution_count": 110,
   "id": "feb76d34",
   "metadata": {},
   "outputs": [
    {
     "data": {
      "text/plain": [
       "0.6253271433597226"
      ]
     },
     "execution_count": 110,
     "metadata": {},
     "output_type": "execute_result"
    }
   ],
   "source": [
    "y_pred = optimizer.predict(X_test)\n",
    "f1_score(y_test, y_pred, average='macro')"
   ]
  },
  {
   "cell_type": "markdown",
   "id": "c92497cb",
   "metadata": {},
   "source": [
    "### XGBoost Classifier"
   ]
  },
  {
   "cell_type": "code",
   "execution_count": 111,
   "id": "7717449e",
   "metadata": {},
   "outputs": [
    {
     "data": {
      "text/plain": [
       "GridSearchCV(cv=StratifiedKFold(n_splits=5, random_state=123, shuffle=True),\n",
       "             estimator=Pipeline(steps=[('model',\n",
       "                                        XGBClassifier(base_score=None,\n",
       "                                                      booster=None,\n",
       "                                                      callbacks=None,\n",
       "                                                      colsample_bylevel=None,\n",
       "                                                      colsample_bynode=None,\n",
       "                                                      colsample_bytree=None,\n",
       "                                                      early_stopping_rounds=None,\n",
       "                                                      enable_categorical=False,\n",
       "                                                      eval_metric=None,\n",
       "                                                      feature_types=None,\n",
       "                                                      gamma=None, gpu_id=None,\n",
       "                                                      grow_...\n",
       "                                                      max_bin=None,\n",
       "                                                      max_cat_threshold=None,\n",
       "                                                      max_cat_to_onehot=None,\n",
       "                                                      max_delta_step=None,\n",
       "                                                      max_depth=None,\n",
       "                                                      max_leaves=None,\n",
       "                                                      min_child_weight=None,\n",
       "                                                      missing=nan,\n",
       "                                                      monotone_constraints=None,\n",
       "                                                      n_estimators=100,\n",
       "                                                      n_jobs=None,\n",
       "                                                      num_parallel_tree=None,\n",
       "                                                      predictor=None,\n",
       "                                                      random_state=None, ...))]),\n",
       "             n_jobs=-1,\n",
       "             param_grid=[{'model__gamma': [0.5, 1]},\n",
       "                         {'model__max_leaves': [1, 2]}],\n",
       "             scoring='f1')"
      ]
     },
     "execution_count": 111,
     "metadata": {},
     "output_type": "execute_result"
    }
   ],
   "source": [
    "kfold = StratifiedKFold(5, shuffle=True, random_state=123)#we make 5 \"bin\" with random choose\n",
    "pipeline = Pipeline([\n",
    "    ('model', XGBClassifier())])\n",
    " \n",
    "\n",
    "params = [{\"model__gamma\": [0.5,1]},\n",
    "         {\"model__max_leaves\": [1,2]}]\n",
    "\n",
    "optimizer = GridSearchCV(pipeline,\n",
    "                        params,\n",
    "                        scoring=\"f1\",\n",
    "                        cv=kfold,\n",
    "                        n_jobs=-1)\n",
    "\n",
    "optimizer.fit(X_train, y_train)"
   ]
  },
  {
   "cell_type": "code",
   "execution_count": 112,
   "id": "151d32cf",
   "metadata": {},
   "outputs": [
    {
     "data": {
      "text/plain": [
       "0.6065829597725045"
      ]
     },
     "execution_count": 112,
     "metadata": {},
     "output_type": "execute_result"
    }
   ],
   "source": [
    "y_pred = optimizer.predict(X_test)\n",
    "f1_score(y_test, y_pred, average='macro')"
   ]
  },
  {
   "cell_type": "markdown",
   "id": "b3ed37b4",
   "metadata": {},
   "source": [
    "## Summury"
   ]
  },
  {
   "cell_type": "markdown",
   "id": "ea5d1135",
   "metadata": {},
   "source": [
    "Best F1 score which we use to evaluate because that characteristic of the metric allows us to compare the performance of  multi classifiers using just one metric and still be sure that the classifiers are not making some mistakes.<BR>\n",
    "Best value we obtained by RandomForest model, perhaps becouse for a lot of binary fetuares    "
   ]
  }
 ],
 "metadata": {
  "kernelspec": {
   "display_name": "Python 3 (ipykernel)",
   "language": "python",
   "name": "python3"
  },
  "language_info": {
   "codemirror_mode": {
    "name": "ipython",
    "version": 3
   },
   "file_extension": ".py",
   "mimetype": "text/x-python",
   "name": "python",
   "nbconvert_exporter": "python",
   "pygments_lexer": "ipython3",
   "version": "3.9.12"
  }
 },
 "nbformat": 4,
 "nbformat_minor": 5
}
